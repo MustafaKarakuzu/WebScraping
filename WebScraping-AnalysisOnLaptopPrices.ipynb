{
 "cells": [
  {
   "cell_type": "markdown",
   "id": "c4737022",
   "metadata": {},
   "source": [
    "# Marka, Ram, Hafıza, Ekran Boyutu ve İşlemci Özelliklerinin Laptop Fiyatı Üzerindeki Etkilerinin İncelenmesi"
   ]
  },
  {
   "cell_type": "markdown",
   "id": "289a9c4d",
   "metadata": {},
   "source": [
    "Araştırmaya konu veri seti teknolojik ürünler alanında perakende satış yapmak olan Mediamarkt'ın internet sitesinden çekilmiştir."
   ]
  },
  {
   "cell_type": "markdown",
   "id": "9533729b",
   "metadata": {},
   "source": [
    "## Veri Setinin Hazırlanması"
   ]
  },
  {
   "cell_type": "code",
   "execution_count": 258,
   "id": "13449a64",
   "metadata": {},
   "outputs": [],
   "source": [
    "import pandas as pd\n",
    "import numpy as np\n",
    "import requests\n",
    "from bs4 import BeautifulSoup\n",
    "import matplotlib.pyplot as plt\n",
    "import plotly.graph_objects as go\n",
    "from plotly.subplots import make_subplots\n",
    "import plotly.express as px\n",
    "import warnings"
   ]
  },
  {
   "cell_type": "code",
   "execution_count": 3,
   "id": "af303d2c",
   "metadata": {},
   "outputs": [],
   "source": [
    "warnings.filterwarnings(\"ignore\")"
   ]
  },
  {
   "cell_type": "code",
   "execution_count": 4,
   "id": "d0fa81f3",
   "metadata": {},
   "outputs": [],
   "source": [
    "url1=\"https://www.mediamarkt.com.tr/tr/category/_laptop-504926.html?searchParams=&sort=suggested&view=&page=1\"\n",
    "url2=\"https://www.mediamarkt.com.tr/tr/category/_laptop-504926.html?searchParams=&sort=suggested&view=&page=2\"\n",
    "url3=\"https://www.mediamarkt.com.tr/tr/category/_laptop-504926.html?searchParams=&sort=suggested&view=&page=3\"\n",
    "url4=\"https://www.mediamarkt.com.tr/tr/category/_laptop-504926.html?searchParams=&sort=suggested&view=&page=4\""
   ]
  },
  {
   "cell_type": "code",
   "execution_count": 5,
   "id": "4a47b220",
   "metadata": {},
   "outputs": [],
   "source": [
    "data1=requests.get(url1).text\n",
    "data2=requests.get(url2).text\n",
    "data3=requests.get(url3).text\n",
    "data4=requests.get(url4).text"
   ]
  },
  {
   "cell_type": "code",
   "execution_count": 6,
   "id": "1790db3f",
   "metadata": {},
   "outputs": [],
   "source": [
    "s1=BeautifulSoup(data1, \"html5lib\")\n",
    "s2=BeautifulSoup(data2, \"html5lib\")\n",
    "s3=BeautifulSoup(data3, \"html5lib\")\n",
    "s4=BeautifulSoup(data4, \"html5lib\")"
   ]
  },
  {
   "cell_type": "code",
   "execution_count": 7,
   "id": "3f443f2e",
   "metadata": {},
   "outputs": [],
   "source": [
    "df=pd.DataFrame(columns=['Model','Price'])"
   ]
  },
  {
   "cell_type": "code",
   "execution_count": 8,
   "id": "cddac207",
   "metadata": {},
   "outputs": [],
   "source": [
    "for val in s1.find_all('div', class_='product-wrapper'):\n",
    "    mod=val.find('h2').text\n",
    "    p=val.find('div', class_='price-box').find('div', class_='price small').text\n",
    "    df=df.append({'Model':mod, 'Price':p}, ignore_index=True)\n",
    "for val in s2.find_all('div', class_='product-wrapper'):\n",
    "    mod=val.find('h2').text\n",
    "    p=val.find('div', class_='price-box').find('div', class_='price small').text\n",
    "    df=df.append({'Model':mod, 'Price':p}, ignore_index=True)\n",
    "for val in s3.find_all('div', class_='product-wrapper'):\n",
    "    mod=val.find('h2').text\n",
    "    p=val.find('div', class_='price-box').find('div', class_='price small').text\n",
    "    df=df.append({'Model':mod, 'Price':p}, ignore_index=True)\n",
    "for val in s4.find_all('div', class_='product-wrapper'):\n",
    "    mod=val.find('h2').text\n",
    "    p=val.find('div', class_='price-box').find('div', class_='price small').text\n",
    "    df=df.append({'Model':mod, 'Price':p}, ignore_index=True)"
   ]
  },
  {
   "cell_type": "markdown",
   "id": "483335ef",
   "metadata": {},
   "source": [
    "'df' isimli değişkene tanımlanan veri setinin ham hali aşağıda görülmektedir. Ham haldeki veri seti excel formatında kaydedilmiş ve işlenerek analize hazır hale getirilmiştir."
   ]
  },
  {
   "cell_type": "code",
   "execution_count": 9,
   "id": "82cde7d5",
   "metadata": {},
   "outputs": [
    {
     "data": {
      "text/html": [
       "<div>\n",
       "<style scoped>\n",
       "    .dataframe tbody tr th:only-of-type {\n",
       "        vertical-align: middle;\n",
       "    }\n",
       "\n",
       "    .dataframe tbody tr th {\n",
       "        vertical-align: top;\n",
       "    }\n",
       "\n",
       "    .dataframe thead th {\n",
       "        text-align: right;\n",
       "    }\n",
       "</style>\n",
       "<table border=\"1\" class=\"dataframe\">\n",
       "  <thead>\n",
       "    <tr style=\"text-align: right;\">\n",
       "      <th></th>\n",
       "      <th>Model</th>\n",
       "      <th>Price</th>\n",
       "    </tr>\n",
       "  </thead>\n",
       "  <tbody>\n",
       "    <tr>\n",
       "      <th>0</th>\n",
       "      <td>\\n\\t\\t\\t\\n\\t\\t\\t\\tHP Victus/Core i5-13500H İşl...</td>\n",
       "      <td>27999,-</td>\n",
       "    </tr>\n",
       "    <tr>\n",
       "      <th>1</th>\n",
       "      <td>\\n\\t\\t\\t\\n\\t\\t\\t\\tHUAWEI Matebook D15/ i5-1155...</td>\n",
       "      <td>14999,-</td>\n",
       "    </tr>\n",
       "    <tr>\n",
       "      <th>2</th>\n",
       "      <td>\\n\\t\\t\\t\\n\\t\\t\\t\\tAPPLE Z1240009K/ Mac Air/ M1...</td>\n",
       "      <td>25999,-</td>\n",
       "    </tr>\n",
       "    <tr>\n",
       "      <th>3</th>\n",
       "      <td>\\n\\t\\t\\t\\n\\t\\t\\t\\tHUAWEI Matebook D15/ i5-1155...</td>\n",
       "      <td>12499,-</td>\n",
       "    </tr>\n",
       "    <tr>\n",
       "      <th>4</th>\n",
       "      <td>\\n\\t\\t\\t\\n\\t\\t\\t\\tHP 15S/Core i3-1215U İşlemci...</td>\n",
       "      <td>9499,-</td>\n",
       "    </tr>\n",
       "    <tr>\n",
       "      <th>...</th>\n",
       "      <td>...</td>\n",
       "      <td>...</td>\n",
       "    </tr>\n",
       "    <tr>\n",
       "      <th>104</th>\n",
       "      <td>\\n\\t\\t\\t\\n\\t\\t\\t\\tAPPLE MQKV3TU/A MacBook Air/...</td>\n",
       "      <td>47499,-</td>\n",
       "    </tr>\n",
       "    <tr>\n",
       "      <th>105</th>\n",
       "      <td>\\n\\t\\t\\t\\n\\t\\t\\t\\tAPPLE MQKX3TU/A MacBook Air/...</td>\n",
       "      <td>47499,-</td>\n",
       "    </tr>\n",
       "    <tr>\n",
       "      <th>106</th>\n",
       "      <td>\\n\\t\\t\\t\\n\\t\\t\\t\\tAPPLE MPHJ3TU/A MacBook Pro/...</td>\n",
       "      <td>71999,-</td>\n",
       "    </tr>\n",
       "    <tr>\n",
       "      <th>107</th>\n",
       "      <td>\\n\\t\\t\\t\\n\\t\\t\\t\\tASUS K513EP-L1746W/i5-1135G7...</td>\n",
       "      <td>16997,-</td>\n",
       "    </tr>\n",
       "    <tr>\n",
       "      <th>108</th>\n",
       "      <td>\\n\\t\\t\\t\\n\\t\\t\\t\\tLENOVO Ideapad 1/Ryzen3-7320...</td>\n",
       "      <td>9499,-</td>\n",
       "    </tr>\n",
       "  </tbody>\n",
       "</table>\n",
       "<p>109 rows × 2 columns</p>\n",
       "</div>"
      ],
      "text/plain": [
       "                                                 Model    Price\n",
       "0    \\n\\t\\t\\t\\n\\t\\t\\t\\tHP Victus/Core i5-13500H İşl...  27999,-\n",
       "1    \\n\\t\\t\\t\\n\\t\\t\\t\\tHUAWEI Matebook D15/ i5-1155...  14999,-\n",
       "2    \\n\\t\\t\\t\\n\\t\\t\\t\\tAPPLE Z1240009K/ Mac Air/ M1...  25999,-\n",
       "3    \\n\\t\\t\\t\\n\\t\\t\\t\\tHUAWEI Matebook D15/ i5-1155...  12499,-\n",
       "4    \\n\\t\\t\\t\\n\\t\\t\\t\\tHP 15S/Core i3-1215U İşlemci...   9499,-\n",
       "..                                                 ...      ...\n",
       "104  \\n\\t\\t\\t\\n\\t\\t\\t\\tAPPLE MQKV3TU/A MacBook Air/...  47499,-\n",
       "105  \\n\\t\\t\\t\\n\\t\\t\\t\\tAPPLE MQKX3TU/A MacBook Air/...  47499,-\n",
       "106  \\n\\t\\t\\t\\n\\t\\t\\t\\tAPPLE MPHJ3TU/A MacBook Pro/...  71999,-\n",
       "107  \\n\\t\\t\\t\\n\\t\\t\\t\\tASUS K513EP-L1746W/i5-1135G7...  16997,-\n",
       "108  \\n\\t\\t\\t\\n\\t\\t\\t\\tLENOVO Ideapad 1/Ryzen3-7320...   9499,-\n",
       "\n",
       "[109 rows x 2 columns]"
      ]
     },
     "execution_count": 9,
     "metadata": {},
     "output_type": "execute_result"
    }
   ],
   "source": [
    "df"
   ]
  },
  {
   "cell_type": "code",
   "execution_count": 10,
   "id": "641dbd5e",
   "metadata": {},
   "outputs": [],
   "source": [
    "path='rawdata.xlsx'"
   ]
  },
  {
   "cell_type": "code",
   "execution_count": 11,
   "id": "c5869c4d",
   "metadata": {},
   "outputs": [],
   "source": [
    "df.to_excel(path)"
   ]
  },
  {
   "cell_type": "code",
   "execution_count": 290,
   "id": "8139395e",
   "metadata": {},
   "outputs": [],
   "source": [
    "data2=pd.read_excel('usabledata.xlsx', sheet_name='Sayfa1') # data2, işlenmiş veri setini temsil etmektedir.\n",
    "data3=pd.read_excel('usabledata.xlsx', sheet_name='Sheet1') # data3, excel ile yapılan metin ayrıştırma işlemi sonucunu göstermektedir."
   ]
  },
  {
   "cell_type": "code",
   "execution_count": 291,
   "id": "a716ff42",
   "metadata": {
    "scrolled": true
   },
   "outputs": [
    {
     "data": {
      "text/html": [
       "<div>\n",
       "<style scoped>\n",
       "    .dataframe tbody tr th:only-of-type {\n",
       "        vertical-align: middle;\n",
       "    }\n",
       "\n",
       "    .dataframe tbody tr th {\n",
       "        vertical-align: top;\n",
       "    }\n",
       "\n",
       "    .dataframe thead th {\n",
       "        text-align: right;\n",
       "    }\n",
       "</style>\n",
       "<table border=\"1\" class=\"dataframe\">\n",
       "  <thead>\n",
       "    <tr style=\"text-align: right;\">\n",
       "      <th></th>\n",
       "      <th>Unnamed: 0</th>\n",
       "      <th>Model</th>\n",
       "      <th>Price</th>\n",
       "      <th>Marka</th>\n",
       "      <th>İşlemci</th>\n",
       "      <th>RAM</th>\n",
       "      <th>HAFIZA</th>\n",
       "      <th>EKRAN KARTI</th>\n",
       "      <th>EKRAN BOYUTU</th>\n",
       "      <th>İŞLETİM SİSTEMİ</th>\n",
       "      <th>Unnamed: 10</th>\n",
       "      <th>Unnamed: 11</th>\n",
       "      <th>Unnamed: 12</th>\n",
       "      <th>Unnamed: 13</th>\n",
       "      <th>Unnamed: 14</th>\n",
       "      <th>Fiyat</th>\n",
       "      <th>Unnamed: 16</th>\n",
       "    </tr>\n",
       "  </thead>\n",
       "  <tbody>\n",
       "    <tr>\n",
       "      <th>0</th>\n",
       "      <td>0</td>\n",
       "      <td>\\n\\t\\t\\t\\n\\t\\t\\t\\tHP Victus/Core i5-13500H İşl...</td>\n",
       "      <td>27999,-</td>\n",
       "      <td>\\n\\t\\t\\t\\n\\t\\t\\t\\tHP Victus</td>\n",
       "      <td>Core i5-13500H İşlemci</td>\n",
       "      <td>16GB RAM</td>\n",
       "      <td>512GB SSD</td>\n",
       "      <td>RTX 4050 Ekran Kart</td>\n",
       "      <td>15.6\"</td>\n",
       "      <td>WIN11</td>\n",
       "      <td>Gaming Laptop Performans Mavi 7N9U9EA\\n\\t\\t</td>\n",
       "      <td>NaN</td>\n",
       "      <td>NaN</td>\n",
       "      <td>NaN</td>\n",
       "      <td>NaN</td>\n",
       "      <td>27999</td>\n",
       "      <td>-</td>\n",
       "    </tr>\n",
       "    <tr>\n",
       "      <th>1</th>\n",
       "      <td>1</td>\n",
       "      <td>\\n\\t\\t\\t\\n\\t\\t\\t\\tHUAWEI Matebook D15/ i5-1155...</td>\n",
       "      <td>14999,-</td>\n",
       "      <td>\\n\\t\\t\\t\\n\\t\\t\\t\\tHUAWEI Matebook D15</td>\n",
       "      <td>i5-1155G7 İşlemci</td>\n",
       "      <td>8GB Ram</td>\n",
       "      <td>512GB SSD</td>\n",
       "      <td>15.6 inç</td>\n",
       "      <td>Win 11 Laptop Mistik Gümüş\\n\\t\\t</td>\n",
       "      <td>NaN</td>\n",
       "      <td>NaN</td>\n",
       "      <td>NaN</td>\n",
       "      <td>NaN</td>\n",
       "      <td>NaN</td>\n",
       "      <td>NaN</td>\n",
       "      <td>14999</td>\n",
       "      <td>-</td>\n",
       "    </tr>\n",
       "    <tr>\n",
       "      <th>2</th>\n",
       "      <td>2</td>\n",
       "      <td>\\n\\t\\t\\t\\n\\t\\t\\t\\tAPPLE Z1240009K/ Mac Air/ M1...</td>\n",
       "      <td>25999,-</td>\n",
       "      <td>\\n\\t\\t\\t\\n\\t\\t\\t\\tAPPLE Z1240009K</td>\n",
       "      <td>Mac Air</td>\n",
       "      <td>M1</td>\n",
       "      <td>16GB RAM</td>\n",
       "      <td>256GB SSD</td>\n",
       "      <td>13.3 inç</td>\n",
       "      <td>Uzay Grisi\\n\\t\\t</td>\n",
       "      <td>NaN</td>\n",
       "      <td>NaN</td>\n",
       "      <td>NaN</td>\n",
       "      <td>NaN</td>\n",
       "      <td>NaN</td>\n",
       "      <td>25999</td>\n",
       "      <td>-</td>\n",
       "    </tr>\n",
       "    <tr>\n",
       "      <th>3</th>\n",
       "      <td>3</td>\n",
       "      <td>\\n\\t\\t\\t\\n\\t\\t\\t\\tHUAWEI Matebook D15/ i5-1155...</td>\n",
       "      <td>12499,-</td>\n",
       "      <td>\\n\\t\\t\\t\\n\\t\\t\\t\\tHUAWEI Matebook D15</td>\n",
       "      <td>i5-1155G7 İşlemci</td>\n",
       "      <td>8GB Ram</td>\n",
       "      <td>256GB SSD</td>\n",
       "      <td>15.6 inç</td>\n",
       "      <td>Win 11 Laptop Mistik Gümüş\\n\\t\\t</td>\n",
       "      <td>NaN</td>\n",
       "      <td>NaN</td>\n",
       "      <td>NaN</td>\n",
       "      <td>NaN</td>\n",
       "      <td>NaN</td>\n",
       "      <td>NaN</td>\n",
       "      <td>12499</td>\n",
       "      <td>-</td>\n",
       "    </tr>\n",
       "    <tr>\n",
       "      <th>4</th>\n",
       "      <td>4</td>\n",
       "      <td>\\n\\t\\t\\t\\n\\t\\t\\t\\tHP 15S/Core i3-1215U İşlemci...</td>\n",
       "      <td>9499,-</td>\n",
       "      <td>\\n\\t\\t\\t\\n\\t\\t\\t\\tHP 15S</td>\n",
       "      <td>Core i3-1215U İşlemci</td>\n",
       "      <td>8GB RAM</td>\n",
       "      <td>256GB SSD</td>\n",
       "      <td>15.6\" Win 11</td>\n",
       "      <td>6G0C4EA Laptop Kömür Grisi\\n\\t\\t</td>\n",
       "      <td>NaN</td>\n",
       "      <td>NaN</td>\n",
       "      <td>NaN</td>\n",
       "      <td>NaN</td>\n",
       "      <td>NaN</td>\n",
       "      <td>NaN</td>\n",
       "      <td>9499</td>\n",
       "      <td>-</td>\n",
       "    </tr>\n",
       "    <tr>\n",
       "      <th>...</th>\n",
       "      <td>...</td>\n",
       "      <td>...</td>\n",
       "      <td>...</td>\n",
       "      <td>...</td>\n",
       "      <td>...</td>\n",
       "      <td>...</td>\n",
       "      <td>...</td>\n",
       "      <td>...</td>\n",
       "      <td>...</td>\n",
       "      <td>...</td>\n",
       "      <td>...</td>\n",
       "      <td>...</td>\n",
       "      <td>...</td>\n",
       "      <td>...</td>\n",
       "      <td>...</td>\n",
       "      <td>...</td>\n",
       "      <td>...</td>\n",
       "    </tr>\n",
       "    <tr>\n",
       "      <th>140</th>\n",
       "      <td>140</td>\n",
       "      <td>\\n\\t\\t\\t\\n\\t\\t\\t\\tHP Victus 7N9T4EA/ Core i5-1...</td>\n",
       "      <td>33499,-</td>\n",
       "      <td>\\n\\t\\t\\t\\n\\t\\t\\t\\tHP Victus 7N9T4EA</td>\n",
       "      <td>Core i5-13500H İşlemci</td>\n",
       "      <td>16GB RAM</td>\n",
       "      <td>512GB SSD</td>\n",
       "      <td>RTX4050 Ekran Kartı</td>\n",
       "      <td>15.6\"</td>\n",
       "      <td>Win 11 Laptop Seramik Beyaz\\n\\t\\t</td>\n",
       "      <td>NaN</td>\n",
       "      <td>NaN</td>\n",
       "      <td>NaN</td>\n",
       "      <td>NaN</td>\n",
       "      <td>NaN</td>\n",
       "      <td>33499</td>\n",
       "      <td>-</td>\n",
       "    </tr>\n",
       "    <tr>\n",
       "      <th>141</th>\n",
       "      <td>141</td>\n",
       "      <td>\\n\\t\\t\\t\\n\\t\\t\\t\\tAPPLE MQKV3TU/A MacBook Air/...</td>\n",
       "      <td>47499,-</td>\n",
       "      <td>\\n\\t\\t\\t\\n\\t\\t\\t\\tAPPLE MQKV3TU</td>\n",
       "      <td>A MacBook Air</td>\n",
       "      <td>M2 Çip</td>\n",
       "      <td>8 GB</td>\n",
       "      <td>512 GB</td>\n",
       "      <td>15\"</td>\n",
       "      <td>Yıldız Işığı\\n\\t\\t</td>\n",
       "      <td>NaN</td>\n",
       "      <td>NaN</td>\n",
       "      <td>NaN</td>\n",
       "      <td>NaN</td>\n",
       "      <td>NaN</td>\n",
       "      <td>47499</td>\n",
       "      <td>-</td>\n",
       "    </tr>\n",
       "    <tr>\n",
       "      <th>142</th>\n",
       "      <td>142</td>\n",
       "      <td>\\n\\t\\t\\t\\n\\t\\t\\t\\tAPPLE MQKX3TU/A MacBook Air/...</td>\n",
       "      <td>47499,-</td>\n",
       "      <td>\\n\\t\\t\\t\\n\\t\\t\\t\\tAPPLE MQKX3TU</td>\n",
       "      <td>A MacBook Air</td>\n",
       "      <td>M2 Çip</td>\n",
       "      <td>8 GB</td>\n",
       "      <td>512 GB</td>\n",
       "      <td>15\"</td>\n",
       "      <td>Gece Yarısı\\n\\t\\t</td>\n",
       "      <td>NaN</td>\n",
       "      <td>NaN</td>\n",
       "      <td>NaN</td>\n",
       "      <td>NaN</td>\n",
       "      <td>NaN</td>\n",
       "      <td>47499</td>\n",
       "      <td>-</td>\n",
       "    </tr>\n",
       "    <tr>\n",
       "      <th>143</th>\n",
       "      <td>143</td>\n",
       "      <td>\\n\\t\\t\\t\\n\\t\\t\\t\\tAPPLE MPHJ3TU/A MacBook Pro/...</td>\n",
       "      <td>71999,-</td>\n",
       "      <td>\\n\\t\\t\\t\\n\\t\\t\\t\\tAPPLE MPHJ3TU</td>\n",
       "      <td>A MacBook Pro</td>\n",
       "      <td>M2 PRO</td>\n",
       "      <td>12CPU</td>\n",
       "      <td>19GPU</td>\n",
       "      <td>16GB RAM</td>\n",
       "      <td>1TBSSD</td>\n",
       "      <td>14''</td>\n",
       "      <td>Gümüş\\n\\t\\t</td>\n",
       "      <td>NaN</td>\n",
       "      <td>NaN</td>\n",
       "      <td>NaN</td>\n",
       "      <td>71999</td>\n",
       "      <td>-</td>\n",
       "    </tr>\n",
       "    <tr>\n",
       "      <th>144</th>\n",
       "      <td>144</td>\n",
       "      <td>\\n\\t\\t\\t\\n\\t\\t\\t\\tASUS K513EP-L1746W/i5-1135G7...</td>\n",
       "      <td>16997,-</td>\n",
       "      <td>\\n\\t\\t\\t\\n\\t\\t\\t\\tASUS K513EP-L1746W</td>\n",
       "      <td>i5-1135G7</td>\n",
       "      <td>8GB RAM</td>\n",
       "      <td>512GB SSD</td>\n",
       "      <td>2GB MX330</td>\n",
       "      <td>15.6\"</td>\n",
       "      <td>WIN11 Convertible Laptop Gümüş\\n\\t\\t</td>\n",
       "      <td>NaN</td>\n",
       "      <td>NaN</td>\n",
       "      <td>NaN</td>\n",
       "      <td>NaN</td>\n",
       "      <td>NaN</td>\n",
       "      <td>16997</td>\n",
       "      <td>-</td>\n",
       "    </tr>\n",
       "  </tbody>\n",
       "</table>\n",
       "<p>145 rows × 17 columns</p>\n",
       "</div>"
      ],
      "text/plain": [
       "     Unnamed: 0                                              Model    Price  \\\n",
       "0             0  \\n\\t\\t\\t\\n\\t\\t\\t\\tHP Victus/Core i5-13500H İşl...  27999,-   \n",
       "1             1  \\n\\t\\t\\t\\n\\t\\t\\t\\tHUAWEI Matebook D15/ i5-1155...  14999,-   \n",
       "2             2  \\n\\t\\t\\t\\n\\t\\t\\t\\tAPPLE Z1240009K/ Mac Air/ M1...  25999,-   \n",
       "3             3  \\n\\t\\t\\t\\n\\t\\t\\t\\tHUAWEI Matebook D15/ i5-1155...  12499,-   \n",
       "4             4  \\n\\t\\t\\t\\n\\t\\t\\t\\tHP 15S/Core i3-1215U İşlemci...   9499,-   \n",
       "..          ...                                                ...      ...   \n",
       "140         140  \\n\\t\\t\\t\\n\\t\\t\\t\\tHP Victus 7N9T4EA/ Core i5-1...  33499,-   \n",
       "141         141  \\n\\t\\t\\t\\n\\t\\t\\t\\tAPPLE MQKV3TU/A MacBook Air/...  47499,-   \n",
       "142         142  \\n\\t\\t\\t\\n\\t\\t\\t\\tAPPLE MQKX3TU/A MacBook Air/...  47499,-   \n",
       "143         143  \\n\\t\\t\\t\\n\\t\\t\\t\\tAPPLE MPHJ3TU/A MacBook Pro/...  71999,-   \n",
       "144         144  \\n\\t\\t\\t\\n\\t\\t\\t\\tASUS K513EP-L1746W/i5-1135G7...  16997,-   \n",
       "\n",
       "                                     Marka                  İşlemci       RAM  \\\n",
       "0              \\n\\t\\t\\t\\n\\t\\t\\t\\tHP Victus   Core i5-13500H İşlemci  16GB RAM   \n",
       "1    \\n\\t\\t\\t\\n\\t\\t\\t\\tHUAWEI Matebook D15        i5-1155G7 İşlemci   8GB Ram   \n",
       "2        \\n\\t\\t\\t\\n\\t\\t\\t\\tAPPLE Z1240009K                  Mac Air        M1   \n",
       "3    \\n\\t\\t\\t\\n\\t\\t\\t\\tHUAWEI Matebook D15        i5-1155G7 İşlemci   8GB Ram   \n",
       "4                 \\n\\t\\t\\t\\n\\t\\t\\t\\tHP 15S    Core i3-1215U İşlemci   8GB RAM   \n",
       "..                                     ...                      ...       ...   \n",
       "140    \\n\\t\\t\\t\\n\\t\\t\\t\\tHP Victus 7N9T4EA   Core i5-13500H İşlemci  16GB RAM   \n",
       "141        \\n\\t\\t\\t\\n\\t\\t\\t\\tAPPLE MQKV3TU            A MacBook Air    M2 Çip   \n",
       "142        \\n\\t\\t\\t\\n\\t\\t\\t\\tAPPLE MQKX3TU            A MacBook Air    M2 Çip   \n",
       "143        \\n\\t\\t\\t\\n\\t\\t\\t\\tAPPLE MPHJ3TU            A MacBook Pro    M2 PRO   \n",
       "144   \\n\\t\\t\\t\\n\\t\\t\\t\\tASUS K513EP-L1746W                i5-1135G7   8GB RAM   \n",
       "\n",
       "         HAFIZA          EKRAN KARTI                       EKRAN BOYUTU  \\\n",
       "0     512GB SSD  RTX 4050 Ekran Kart                              15.6\"   \n",
       "1     512GB SSD             15.6 inç   Win 11 Laptop Mistik Gümüş\\n\\t\\t   \n",
       "2     16GB RAM             256GB SSD                           13.3 inç   \n",
       "3     256GB SSD             15.6 inç   Win 11 Laptop Mistik Gümüş\\n\\t\\t   \n",
       "4     256GB SSD         15.6\" Win 11   6G0C4EA Laptop Kömür Grisi\\n\\t\\t   \n",
       "..          ...                  ...                                ...   \n",
       "140   512GB SSD  RTX4050 Ekran Kartı                              15.6\"   \n",
       "141        8 GB               512 GB                                15\"   \n",
       "142        8 GB               512 GB                                15\"   \n",
       "143       12CPU                19GPU                           16GB RAM   \n",
       "144   512GB SSD            2GB MX330                              15.6\"   \n",
       "\n",
       "                          İŞLETİM SİSTEMİ  \\\n",
       "0                                   WIN11   \n",
       "1                                     NaN   \n",
       "2                        Uzay Grisi\\n\\t\\t   \n",
       "3                                     NaN   \n",
       "4                                     NaN   \n",
       "..                                    ...   \n",
       "140     Win 11 Laptop Seramik Beyaz\\n\\t\\t   \n",
       "141                    Yıldız Işığı\\n\\t\\t   \n",
       "142                     Gece Yarısı\\n\\t\\t   \n",
       "143                                1TBSSD   \n",
       "144  WIN11 Convertible Laptop Gümüş\\n\\t\\t   \n",
       "\n",
       "                                     Unnamed: 10  Unnamed: 11 Unnamed: 12  \\\n",
       "0    Gaming Laptop Performans Mavi 7N9U9EA\\n\\t\\t          NaN         NaN   \n",
       "1                                            NaN          NaN         NaN   \n",
       "2                                            NaN          NaN         NaN   \n",
       "3                                            NaN          NaN         NaN   \n",
       "4                                            NaN          NaN         NaN   \n",
       "..                                           ...          ...         ...   \n",
       "140                                          NaN          NaN         NaN   \n",
       "141                                          NaN          NaN         NaN   \n",
       "142                                          NaN          NaN         NaN   \n",
       "143                                         14''  Gümüş\\n\\t\\t         NaN   \n",
       "144                                          NaN          NaN         NaN   \n",
       "\n",
       "    Unnamed: 13 Unnamed: 14  Fiyat Unnamed: 16  \n",
       "0           NaN         NaN  27999           -  \n",
       "1           NaN         NaN  14999           -  \n",
       "2           NaN         NaN  25999           -  \n",
       "3           NaN         NaN  12499           -  \n",
       "4           NaN         NaN   9499           -  \n",
       "..          ...         ...    ...         ...  \n",
       "140         NaN         NaN  33499           -  \n",
       "141         NaN         NaN  47499           -  \n",
       "142         NaN         NaN  47499           -  \n",
       "143         NaN         NaN  71999           -  \n",
       "144         NaN         NaN  16997           -  \n",
       "\n",
       "[145 rows x 17 columns]"
      ]
     },
     "execution_count": 291,
     "metadata": {},
     "output_type": "execute_result"
    }
   ],
   "source": [
    "data3"
   ]
  },
  {
   "cell_type": "code",
   "execution_count": 292,
   "id": "c11bb8c3",
   "metadata": {},
   "outputs": [],
   "source": [
    "data2['Marka']=data2['Marka'].str.replace('\\n','')\n",
    "data2['Marka']=data2['Marka'].str.replace('\\t','')"
   ]
  },
  {
   "cell_type": "code",
   "execution_count": 459,
   "id": "c8a26d82",
   "metadata": {},
   "outputs": [
    {
     "name": "stdout",
     "output_type": "stream",
     "text": [
      "      Marka İşlemci  Ram  Hafıza  EkranBoyutu  Fiyat\n",
      "0        HP      i5   16     512         15.6  27999\n",
      "1    HUAWEI      i5    8     512         15.6  14999\n",
      "2     APPLE      m1   16     256         13.3  25999\n",
      "3    HUAWEI      i5    8     256         15.6  12499\n",
      "4        HP      i3    8     256         15.6   9499\n",
      "..      ...     ...  ...     ...          ...    ...\n",
      "138      HP      i5   16     512         15.6  33499\n",
      "139   APPLE      m2    8     512         15.0  47499\n",
      "140   APPLE      m2    8     512         15.0  47499\n",
      "141   APPLE      m2   16    1024         14.0  71999\n",
      "142    ASUS      i5    8     512         15.6  16997\n",
      "\n",
      "[143 rows x 6 columns]\n",
      "['HP' 'HUAWEI' 'APPLE' 'ACER' 'ASUS' 'CASPER' 'LENOVO']\n"
     ]
    }
   ],
   "source": [
    "print(data2)\n",
    "print(data2['Marka'].unique())"
   ]
  },
  {
   "cell_type": "markdown",
   "id": "3f7720be",
   "metadata": {},
   "source": [
    "## ANALİZ"
   ]
  },
  {
   "cell_type": "markdown",
   "id": "fdcaa260",
   "metadata": {},
   "source": [
    "### Kategorik Değişkenlerin Sayısal Verilere Dönüştürülmesi"
   ]
  },
  {
   "cell_type": "code",
   "execution_count": 294,
   "id": "391f391f",
   "metadata": {},
   "outputs": [
    {
     "data": {
      "text/plain": [
       "array(['i5', 'm1', 'i3', 'm2', 'i7', 'ryzen3', 'ryzen7', 'ryzen5',\n",
       "       'athlon', 'i9', 'celeron', 'ryzen9'], dtype=object)"
      ]
     },
     "execution_count": 294,
     "metadata": {},
     "output_type": "execute_result"
    }
   ],
   "source": [
    "data2['İşlemci'].unique()"
   ]
  },
  {
   "cell_type": "code",
   "execution_count": 295,
   "id": "4a675daf",
   "metadata": {},
   "outputs": [],
   "source": [
    "from sklearn import preprocessing\n",
    "le = preprocessing.LabelEncoder()\n",
    "ohe = preprocessing.OneHotEncoder()"
   ]
  },
  {
   "cell_type": "code",
   "execution_count": 296,
   "id": "0e4fa1f8",
   "metadata": {},
   "outputs": [],
   "source": [
    "x=data2.iloc[:,1:2]\n",
    "z=data2.iloc[:,0:1]"
   ]
  },
  {
   "cell_type": "code",
   "execution_count": 297,
   "id": "cb00101d",
   "metadata": {},
   "outputs": [
    {
     "data": {
      "text/html": [
       "<div>\n",
       "<style scoped>\n",
       "    .dataframe tbody tr th:only-of-type {\n",
       "        vertical-align: middle;\n",
       "    }\n",
       "\n",
       "    .dataframe tbody tr th {\n",
       "        vertical-align: top;\n",
       "    }\n",
       "\n",
       "    .dataframe thead th {\n",
       "        text-align: right;\n",
       "    }\n",
       "</style>\n",
       "<table border=\"1\" class=\"dataframe\">\n",
       "  <thead>\n",
       "    <tr style=\"text-align: right;\">\n",
       "      <th></th>\n",
       "      <th>İşlemci</th>\n",
       "    </tr>\n",
       "  </thead>\n",
       "  <tbody>\n",
       "    <tr>\n",
       "      <th>0</th>\n",
       "      <td>i5</td>\n",
       "    </tr>\n",
       "    <tr>\n",
       "      <th>1</th>\n",
       "      <td>i5</td>\n",
       "    </tr>\n",
       "    <tr>\n",
       "      <th>2</th>\n",
       "      <td>m1</td>\n",
       "    </tr>\n",
       "    <tr>\n",
       "      <th>3</th>\n",
       "      <td>i5</td>\n",
       "    </tr>\n",
       "    <tr>\n",
       "      <th>4</th>\n",
       "      <td>i3</td>\n",
       "    </tr>\n",
       "    <tr>\n",
       "      <th>...</th>\n",
       "      <td>...</td>\n",
       "    </tr>\n",
       "    <tr>\n",
       "      <th>138</th>\n",
       "      <td>i5</td>\n",
       "    </tr>\n",
       "    <tr>\n",
       "      <th>139</th>\n",
       "      <td>m2</td>\n",
       "    </tr>\n",
       "    <tr>\n",
       "      <th>140</th>\n",
       "      <td>m2</td>\n",
       "    </tr>\n",
       "    <tr>\n",
       "      <th>141</th>\n",
       "      <td>m2</td>\n",
       "    </tr>\n",
       "    <tr>\n",
       "      <th>142</th>\n",
       "      <td>i5</td>\n",
       "    </tr>\n",
       "  </tbody>\n",
       "</table>\n",
       "<p>143 rows × 1 columns</p>\n",
       "</div>"
      ],
      "text/plain": [
       "    İşlemci\n",
       "0        i5\n",
       "1        i5\n",
       "2        m1\n",
       "3        i5\n",
       "4        i3\n",
       "..      ...\n",
       "138      i5\n",
       "139      m2\n",
       "140      m2\n",
       "141      m2\n",
       "142      i5\n",
       "\n",
       "[143 rows x 1 columns]"
      ]
     },
     "execution_count": 297,
     "metadata": {},
     "output_type": "execute_result"
    }
   ],
   "source": [
    "x"
   ]
  },
  {
   "cell_type": "code",
   "execution_count": 298,
   "id": "9b433326",
   "metadata": {},
   "outputs": [
    {
     "data": {
      "text/html": [
       "<div>\n",
       "<style scoped>\n",
       "    .dataframe tbody tr th:only-of-type {\n",
       "        vertical-align: middle;\n",
       "    }\n",
       "\n",
       "    .dataframe tbody tr th {\n",
       "        vertical-align: top;\n",
       "    }\n",
       "\n",
       "    .dataframe thead th {\n",
       "        text-align: right;\n",
       "    }\n",
       "</style>\n",
       "<table border=\"1\" class=\"dataframe\">\n",
       "  <thead>\n",
       "    <tr style=\"text-align: right;\">\n",
       "      <th></th>\n",
       "      <th>Marka</th>\n",
       "    </tr>\n",
       "  </thead>\n",
       "  <tbody>\n",
       "    <tr>\n",
       "      <th>0</th>\n",
       "      <td>HP</td>\n",
       "    </tr>\n",
       "    <tr>\n",
       "      <th>1</th>\n",
       "      <td>HUAWEI</td>\n",
       "    </tr>\n",
       "    <tr>\n",
       "      <th>2</th>\n",
       "      <td>APPLE</td>\n",
       "    </tr>\n",
       "    <tr>\n",
       "      <th>3</th>\n",
       "      <td>HUAWEI</td>\n",
       "    </tr>\n",
       "    <tr>\n",
       "      <th>4</th>\n",
       "      <td>HP</td>\n",
       "    </tr>\n",
       "    <tr>\n",
       "      <th>...</th>\n",
       "      <td>...</td>\n",
       "    </tr>\n",
       "    <tr>\n",
       "      <th>138</th>\n",
       "      <td>HP</td>\n",
       "    </tr>\n",
       "    <tr>\n",
       "      <th>139</th>\n",
       "      <td>APPLE</td>\n",
       "    </tr>\n",
       "    <tr>\n",
       "      <th>140</th>\n",
       "      <td>APPLE</td>\n",
       "    </tr>\n",
       "    <tr>\n",
       "      <th>141</th>\n",
       "      <td>APPLE</td>\n",
       "    </tr>\n",
       "    <tr>\n",
       "      <th>142</th>\n",
       "      <td>ASUS</td>\n",
       "    </tr>\n",
       "  </tbody>\n",
       "</table>\n",
       "<p>143 rows × 1 columns</p>\n",
       "</div>"
      ],
      "text/plain": [
       "      Marka\n",
       "0        HP\n",
       "1    HUAWEI\n",
       "2     APPLE\n",
       "3    HUAWEI\n",
       "4        HP\n",
       "..      ...\n",
       "138      HP\n",
       "139   APPLE\n",
       "140   APPLE\n",
       "141   APPLE\n",
       "142    ASUS\n",
       "\n",
       "[143 rows x 1 columns]"
      ]
     },
     "execution_count": 298,
     "metadata": {},
     "output_type": "execute_result"
    }
   ],
   "source": [
    "z"
   ]
  },
  {
   "cell_type": "code",
   "execution_count": 299,
   "id": "8ea44ccb",
   "metadata": {},
   "outputs": [],
   "source": [
    "x=le.fit_transform(x)\n",
    "z=le.fit_transform(z)"
   ]
  },
  {
   "cell_type": "code",
   "execution_count": 300,
   "id": "987776ec",
   "metadata": {},
   "outputs": [
    {
     "data": {
      "text/plain": [
       "array([ 3,  3,  6,  3,  2,  6,  2,  7,  3,  3,  3,  3,  4,  7,  4,  3,  3,\n",
       "        3,  8,  7,  7,  6, 10, 10,  4,  9,  3,  9,  4,  0,  7,  5,  3,  3,\n",
       "        3,  3,  3,  3,  6,  3,  2,  6,  2,  7,  3,  3,  3,  4,  7,  4,  3,\n",
       "        3,  3,  8,  7,  7,  6, 10, 10,  9,  3,  9,  4,  0,  7,  5,  3,  3,\n",
       "        3,  3,  3,  3,  3,  2,  1,  5,  3,  4,  3,  4,  9,  4,  9,  7,  3,\n",
       "        7,  1,  7,  7,  3,  3,  9,  2,  7,  4,  9, 10, 11,  3,  9,  3,  4,\n",
       "        9,  3,  7,  2,  3,  7,  6,  7,  4,  3,  3,  7,  7,  7,  3,  7,  7,\n",
       "       11,  7,  7,  7,  3,  3,  4,  3,  7,  7,  7,  7,  7,  8,  7,  3,  4,\n",
       "        7,  9,  3,  7,  7,  7,  3])"
      ]
     },
     "execution_count": 300,
     "metadata": {},
     "output_type": "execute_result"
    }
   ],
   "source": [
    "x"
   ]
  },
  {
   "cell_type": "code",
   "execution_count": 301,
   "id": "1241c184",
   "metadata": {},
   "outputs": [
    {
     "data": {
      "text/plain": [
       "array([4, 5, 1, 5, 4, 1, 0, 1, 4, 4, 2, 2, 2, 1, 3, 6, 5, 4, 6, 1, 1, 1,\n",
       "       6, 6, 2, 6, 2, 6, 2, 6, 1, 4, 0, 3, 3, 6, 4, 5, 1, 5, 4, 1, 0, 1,\n",
       "       4, 4, 2, 2, 1, 3, 6, 5, 4, 6, 1, 1, 1, 6, 6, 6, 2, 6, 2, 6, 1, 4,\n",
       "       0, 3, 3, 6, 2, 0, 2, 2, 3, 2, 3, 4, 3, 0, 6, 2, 6, 1, 6, 1, 6, 1,\n",
       "       1, 6, 3, 6, 6, 1, 2, 6, 6, 6, 3, 6, 4, 6, 6, 6, 1, 3, 4, 1, 1, 1,\n",
       "       6, 0, 3, 1, 1, 1, 3, 1, 1, 6, 1, 1, 1, 6, 6, 2, 2, 1, 1, 1, 1, 1,\n",
       "       6, 1, 5, 2, 1, 6, 4, 1, 1, 1, 2])"
      ]
     },
     "execution_count": 301,
     "metadata": {},
     "output_type": "execute_result"
    }
   ],
   "source": [
    "z"
   ]
  },
  {
   "cell_type": "code",
   "execution_count": 302,
   "id": "f7adbcce",
   "metadata": {},
   "outputs": [],
   "source": [
    "x=x.reshape(-1,1)\n",
    "z=z.reshape(-1,1)"
   ]
  },
  {
   "cell_type": "code",
   "execution_count": 303,
   "id": "672c3233",
   "metadata": {},
   "outputs": [],
   "source": [
    "x=ohe.fit_transform(x)\n",
    "z=ohe.fit_transform(z)"
   ]
  },
  {
   "cell_type": "code",
   "execution_count": 304,
   "id": "94b07c0d",
   "metadata": {},
   "outputs": [],
   "source": [
    "x=x.toarray()\n",
    "z=z.toarray()"
   ]
  },
  {
   "cell_type": "code",
   "execution_count": 305,
   "id": "35e51fb2",
   "metadata": {},
   "outputs": [],
   "source": [
    "x=pd.DataFrame(data=x, columns=['athlon','celeron','i3','i5','i7','i9','m1','m2','ryzen3','ryzen5','ryzen7','ryzen9'])\n",
    "z=pd.DataFrame(data=z, columns=['Acer','Apple','Asus','Casper','HP','Huawei','Lenovo'])"
   ]
  },
  {
   "cell_type": "code",
   "execution_count": 306,
   "id": "aef6720f",
   "metadata": {},
   "outputs": [
    {
     "data": {
      "text/html": [
       "<div>\n",
       "<style scoped>\n",
       "    .dataframe tbody tr th:only-of-type {\n",
       "        vertical-align: middle;\n",
       "    }\n",
       "\n",
       "    .dataframe tbody tr th {\n",
       "        vertical-align: top;\n",
       "    }\n",
       "\n",
       "    .dataframe thead th {\n",
       "        text-align: right;\n",
       "    }\n",
       "</style>\n",
       "<table border=\"1\" class=\"dataframe\">\n",
       "  <thead>\n",
       "    <tr style=\"text-align: right;\">\n",
       "      <th></th>\n",
       "      <th>athlon</th>\n",
       "      <th>celeron</th>\n",
       "      <th>i3</th>\n",
       "      <th>i5</th>\n",
       "      <th>i7</th>\n",
       "      <th>i9</th>\n",
       "      <th>m1</th>\n",
       "      <th>m2</th>\n",
       "      <th>ryzen3</th>\n",
       "      <th>ryzen5</th>\n",
       "      <th>ryzen7</th>\n",
       "      <th>ryzen9</th>\n",
       "    </tr>\n",
       "  </thead>\n",
       "  <tbody>\n",
       "    <tr>\n",
       "      <th>0</th>\n",
       "      <td>0.0</td>\n",
       "      <td>0.0</td>\n",
       "      <td>0.0</td>\n",
       "      <td>1.0</td>\n",
       "      <td>0.0</td>\n",
       "      <td>0.0</td>\n",
       "      <td>0.0</td>\n",
       "      <td>0.0</td>\n",
       "      <td>0.0</td>\n",
       "      <td>0.0</td>\n",
       "      <td>0.0</td>\n",
       "      <td>0.0</td>\n",
       "    </tr>\n",
       "    <tr>\n",
       "      <th>1</th>\n",
       "      <td>0.0</td>\n",
       "      <td>0.0</td>\n",
       "      <td>0.0</td>\n",
       "      <td>1.0</td>\n",
       "      <td>0.0</td>\n",
       "      <td>0.0</td>\n",
       "      <td>0.0</td>\n",
       "      <td>0.0</td>\n",
       "      <td>0.0</td>\n",
       "      <td>0.0</td>\n",
       "      <td>0.0</td>\n",
       "      <td>0.0</td>\n",
       "    </tr>\n",
       "    <tr>\n",
       "      <th>2</th>\n",
       "      <td>0.0</td>\n",
       "      <td>0.0</td>\n",
       "      <td>0.0</td>\n",
       "      <td>0.0</td>\n",
       "      <td>0.0</td>\n",
       "      <td>0.0</td>\n",
       "      <td>1.0</td>\n",
       "      <td>0.0</td>\n",
       "      <td>0.0</td>\n",
       "      <td>0.0</td>\n",
       "      <td>0.0</td>\n",
       "      <td>0.0</td>\n",
       "    </tr>\n",
       "    <tr>\n",
       "      <th>3</th>\n",
       "      <td>0.0</td>\n",
       "      <td>0.0</td>\n",
       "      <td>0.0</td>\n",
       "      <td>1.0</td>\n",
       "      <td>0.0</td>\n",
       "      <td>0.0</td>\n",
       "      <td>0.0</td>\n",
       "      <td>0.0</td>\n",
       "      <td>0.0</td>\n",
       "      <td>0.0</td>\n",
       "      <td>0.0</td>\n",
       "      <td>0.0</td>\n",
       "    </tr>\n",
       "    <tr>\n",
       "      <th>4</th>\n",
       "      <td>0.0</td>\n",
       "      <td>0.0</td>\n",
       "      <td>1.0</td>\n",
       "      <td>0.0</td>\n",
       "      <td>0.0</td>\n",
       "      <td>0.0</td>\n",
       "      <td>0.0</td>\n",
       "      <td>0.0</td>\n",
       "      <td>0.0</td>\n",
       "      <td>0.0</td>\n",
       "      <td>0.0</td>\n",
       "      <td>0.0</td>\n",
       "    </tr>\n",
       "    <tr>\n",
       "      <th>...</th>\n",
       "      <td>...</td>\n",
       "      <td>...</td>\n",
       "      <td>...</td>\n",
       "      <td>...</td>\n",
       "      <td>...</td>\n",
       "      <td>...</td>\n",
       "      <td>...</td>\n",
       "      <td>...</td>\n",
       "      <td>...</td>\n",
       "      <td>...</td>\n",
       "      <td>...</td>\n",
       "      <td>...</td>\n",
       "    </tr>\n",
       "    <tr>\n",
       "      <th>138</th>\n",
       "      <td>0.0</td>\n",
       "      <td>0.0</td>\n",
       "      <td>0.0</td>\n",
       "      <td>1.0</td>\n",
       "      <td>0.0</td>\n",
       "      <td>0.0</td>\n",
       "      <td>0.0</td>\n",
       "      <td>0.0</td>\n",
       "      <td>0.0</td>\n",
       "      <td>0.0</td>\n",
       "      <td>0.0</td>\n",
       "      <td>0.0</td>\n",
       "    </tr>\n",
       "    <tr>\n",
       "      <th>139</th>\n",
       "      <td>0.0</td>\n",
       "      <td>0.0</td>\n",
       "      <td>0.0</td>\n",
       "      <td>0.0</td>\n",
       "      <td>0.0</td>\n",
       "      <td>0.0</td>\n",
       "      <td>0.0</td>\n",
       "      <td>1.0</td>\n",
       "      <td>0.0</td>\n",
       "      <td>0.0</td>\n",
       "      <td>0.0</td>\n",
       "      <td>0.0</td>\n",
       "    </tr>\n",
       "    <tr>\n",
       "      <th>140</th>\n",
       "      <td>0.0</td>\n",
       "      <td>0.0</td>\n",
       "      <td>0.0</td>\n",
       "      <td>0.0</td>\n",
       "      <td>0.0</td>\n",
       "      <td>0.0</td>\n",
       "      <td>0.0</td>\n",
       "      <td>1.0</td>\n",
       "      <td>0.0</td>\n",
       "      <td>0.0</td>\n",
       "      <td>0.0</td>\n",
       "      <td>0.0</td>\n",
       "    </tr>\n",
       "    <tr>\n",
       "      <th>141</th>\n",
       "      <td>0.0</td>\n",
       "      <td>0.0</td>\n",
       "      <td>0.0</td>\n",
       "      <td>0.0</td>\n",
       "      <td>0.0</td>\n",
       "      <td>0.0</td>\n",
       "      <td>0.0</td>\n",
       "      <td>1.0</td>\n",
       "      <td>0.0</td>\n",
       "      <td>0.0</td>\n",
       "      <td>0.0</td>\n",
       "      <td>0.0</td>\n",
       "    </tr>\n",
       "    <tr>\n",
       "      <th>142</th>\n",
       "      <td>0.0</td>\n",
       "      <td>0.0</td>\n",
       "      <td>0.0</td>\n",
       "      <td>1.0</td>\n",
       "      <td>0.0</td>\n",
       "      <td>0.0</td>\n",
       "      <td>0.0</td>\n",
       "      <td>0.0</td>\n",
       "      <td>0.0</td>\n",
       "      <td>0.0</td>\n",
       "      <td>0.0</td>\n",
       "      <td>0.0</td>\n",
       "    </tr>\n",
       "  </tbody>\n",
       "</table>\n",
       "<p>143 rows × 12 columns</p>\n",
       "</div>"
      ],
      "text/plain": [
       "     athlon  celeron   i3   i5   i7   i9   m1   m2  ryzen3  ryzen5  ryzen7  \\\n",
       "0       0.0      0.0  0.0  1.0  0.0  0.0  0.0  0.0     0.0     0.0     0.0   \n",
       "1       0.0      0.0  0.0  1.0  0.0  0.0  0.0  0.0     0.0     0.0     0.0   \n",
       "2       0.0      0.0  0.0  0.0  0.0  0.0  1.0  0.0     0.0     0.0     0.0   \n",
       "3       0.0      0.0  0.0  1.0  0.0  0.0  0.0  0.0     0.0     0.0     0.0   \n",
       "4       0.0      0.0  1.0  0.0  0.0  0.0  0.0  0.0     0.0     0.0     0.0   \n",
       "..      ...      ...  ...  ...  ...  ...  ...  ...     ...     ...     ...   \n",
       "138     0.0      0.0  0.0  1.0  0.0  0.0  0.0  0.0     0.0     0.0     0.0   \n",
       "139     0.0      0.0  0.0  0.0  0.0  0.0  0.0  1.0     0.0     0.0     0.0   \n",
       "140     0.0      0.0  0.0  0.0  0.0  0.0  0.0  1.0     0.0     0.0     0.0   \n",
       "141     0.0      0.0  0.0  0.0  0.0  0.0  0.0  1.0     0.0     0.0     0.0   \n",
       "142     0.0      0.0  0.0  1.0  0.0  0.0  0.0  0.0     0.0     0.0     0.0   \n",
       "\n",
       "     ryzen9  \n",
       "0       0.0  \n",
       "1       0.0  \n",
       "2       0.0  \n",
       "3       0.0  \n",
       "4       0.0  \n",
       "..      ...  \n",
       "138     0.0  \n",
       "139     0.0  \n",
       "140     0.0  \n",
       "141     0.0  \n",
       "142     0.0  \n",
       "\n",
       "[143 rows x 12 columns]"
      ]
     },
     "execution_count": 306,
     "metadata": {},
     "output_type": "execute_result"
    }
   ],
   "source": [
    "x"
   ]
  },
  {
   "cell_type": "code",
   "execution_count": 307,
   "id": "52ef7673",
   "metadata": {},
   "outputs": [
    {
     "data": {
      "text/html": [
       "<div>\n",
       "<style scoped>\n",
       "    .dataframe tbody tr th:only-of-type {\n",
       "        vertical-align: middle;\n",
       "    }\n",
       "\n",
       "    .dataframe tbody tr th {\n",
       "        vertical-align: top;\n",
       "    }\n",
       "\n",
       "    .dataframe thead th {\n",
       "        text-align: right;\n",
       "    }\n",
       "</style>\n",
       "<table border=\"1\" class=\"dataframe\">\n",
       "  <thead>\n",
       "    <tr style=\"text-align: right;\">\n",
       "      <th></th>\n",
       "      <th>Acer</th>\n",
       "      <th>Apple</th>\n",
       "      <th>Asus</th>\n",
       "      <th>Casper</th>\n",
       "      <th>HP</th>\n",
       "      <th>Huawei</th>\n",
       "      <th>Lenovo</th>\n",
       "    </tr>\n",
       "  </thead>\n",
       "  <tbody>\n",
       "    <tr>\n",
       "      <th>0</th>\n",
       "      <td>0.0</td>\n",
       "      <td>0.0</td>\n",
       "      <td>0.0</td>\n",
       "      <td>0.0</td>\n",
       "      <td>1.0</td>\n",
       "      <td>0.0</td>\n",
       "      <td>0.0</td>\n",
       "    </tr>\n",
       "    <tr>\n",
       "      <th>1</th>\n",
       "      <td>0.0</td>\n",
       "      <td>0.0</td>\n",
       "      <td>0.0</td>\n",
       "      <td>0.0</td>\n",
       "      <td>0.0</td>\n",
       "      <td>1.0</td>\n",
       "      <td>0.0</td>\n",
       "    </tr>\n",
       "    <tr>\n",
       "      <th>2</th>\n",
       "      <td>0.0</td>\n",
       "      <td>1.0</td>\n",
       "      <td>0.0</td>\n",
       "      <td>0.0</td>\n",
       "      <td>0.0</td>\n",
       "      <td>0.0</td>\n",
       "      <td>0.0</td>\n",
       "    </tr>\n",
       "    <tr>\n",
       "      <th>3</th>\n",
       "      <td>0.0</td>\n",
       "      <td>0.0</td>\n",
       "      <td>0.0</td>\n",
       "      <td>0.0</td>\n",
       "      <td>0.0</td>\n",
       "      <td>1.0</td>\n",
       "      <td>0.0</td>\n",
       "    </tr>\n",
       "    <tr>\n",
       "      <th>4</th>\n",
       "      <td>0.0</td>\n",
       "      <td>0.0</td>\n",
       "      <td>0.0</td>\n",
       "      <td>0.0</td>\n",
       "      <td>1.0</td>\n",
       "      <td>0.0</td>\n",
       "      <td>0.0</td>\n",
       "    </tr>\n",
       "    <tr>\n",
       "      <th>...</th>\n",
       "      <td>...</td>\n",
       "      <td>...</td>\n",
       "      <td>...</td>\n",
       "      <td>...</td>\n",
       "      <td>...</td>\n",
       "      <td>...</td>\n",
       "      <td>...</td>\n",
       "    </tr>\n",
       "    <tr>\n",
       "      <th>138</th>\n",
       "      <td>0.0</td>\n",
       "      <td>0.0</td>\n",
       "      <td>0.0</td>\n",
       "      <td>0.0</td>\n",
       "      <td>1.0</td>\n",
       "      <td>0.0</td>\n",
       "      <td>0.0</td>\n",
       "    </tr>\n",
       "    <tr>\n",
       "      <th>139</th>\n",
       "      <td>0.0</td>\n",
       "      <td>1.0</td>\n",
       "      <td>0.0</td>\n",
       "      <td>0.0</td>\n",
       "      <td>0.0</td>\n",
       "      <td>0.0</td>\n",
       "      <td>0.0</td>\n",
       "    </tr>\n",
       "    <tr>\n",
       "      <th>140</th>\n",
       "      <td>0.0</td>\n",
       "      <td>1.0</td>\n",
       "      <td>0.0</td>\n",
       "      <td>0.0</td>\n",
       "      <td>0.0</td>\n",
       "      <td>0.0</td>\n",
       "      <td>0.0</td>\n",
       "    </tr>\n",
       "    <tr>\n",
       "      <th>141</th>\n",
       "      <td>0.0</td>\n",
       "      <td>1.0</td>\n",
       "      <td>0.0</td>\n",
       "      <td>0.0</td>\n",
       "      <td>0.0</td>\n",
       "      <td>0.0</td>\n",
       "      <td>0.0</td>\n",
       "    </tr>\n",
       "    <tr>\n",
       "      <th>142</th>\n",
       "      <td>0.0</td>\n",
       "      <td>0.0</td>\n",
       "      <td>1.0</td>\n",
       "      <td>0.0</td>\n",
       "      <td>0.0</td>\n",
       "      <td>0.0</td>\n",
       "      <td>0.0</td>\n",
       "    </tr>\n",
       "  </tbody>\n",
       "</table>\n",
       "<p>143 rows × 7 columns</p>\n",
       "</div>"
      ],
      "text/plain": [
       "     Acer  Apple  Asus  Casper   HP  Huawei  Lenovo\n",
       "0     0.0    0.0   0.0     0.0  1.0     0.0     0.0\n",
       "1     0.0    0.0   0.0     0.0  0.0     1.0     0.0\n",
       "2     0.0    1.0   0.0     0.0  0.0     0.0     0.0\n",
       "3     0.0    0.0   0.0     0.0  0.0     1.0     0.0\n",
       "4     0.0    0.0   0.0     0.0  1.0     0.0     0.0\n",
       "..    ...    ...   ...     ...  ...     ...     ...\n",
       "138   0.0    0.0   0.0     0.0  1.0     0.0     0.0\n",
       "139   0.0    1.0   0.0     0.0  0.0     0.0     0.0\n",
       "140   0.0    1.0   0.0     0.0  0.0     0.0     0.0\n",
       "141   0.0    1.0   0.0     0.0  0.0     0.0     0.0\n",
       "142   0.0    0.0   1.0     0.0  0.0     0.0     0.0\n",
       "\n",
       "[143 rows x 7 columns]"
      ]
     },
     "execution_count": 307,
     "metadata": {},
     "output_type": "execute_result"
    }
   ],
   "source": [
    "z"
   ]
  },
  {
   "cell_type": "markdown",
   "id": "badf2848",
   "metadata": {},
   "source": [
    "### Bağımlı ve Bağımsız Değişken Olarak Ayrıştırma İşlemi"
   ]
  },
  {
   "cell_type": "code",
   "execution_count": 308,
   "id": "ab353884",
   "metadata": {},
   "outputs": [],
   "source": [
    "x1=data2.iloc[:,2:5]"
   ]
  },
  {
   "cell_type": "code",
   "execution_count": 309,
   "id": "d341ea25",
   "metadata": {},
   "outputs": [],
   "source": [
    "X=pd.concat([z,x,x1], axis=1)"
   ]
  },
  {
   "cell_type": "code",
   "execution_count": 310,
   "id": "78cf7cb6",
   "metadata": {},
   "outputs": [
    {
     "data": {
      "text/html": [
       "<div>\n",
       "<style scoped>\n",
       "    .dataframe tbody tr th:only-of-type {\n",
       "        vertical-align: middle;\n",
       "    }\n",
       "\n",
       "    .dataframe tbody tr th {\n",
       "        vertical-align: top;\n",
       "    }\n",
       "\n",
       "    .dataframe thead th {\n",
       "        text-align: right;\n",
       "    }\n",
       "</style>\n",
       "<table border=\"1\" class=\"dataframe\">\n",
       "  <thead>\n",
       "    <tr style=\"text-align: right;\">\n",
       "      <th></th>\n",
       "      <th>Acer</th>\n",
       "      <th>Apple</th>\n",
       "      <th>Asus</th>\n",
       "      <th>Casper</th>\n",
       "      <th>HP</th>\n",
       "      <th>Huawei</th>\n",
       "      <th>Lenovo</th>\n",
       "      <th>athlon</th>\n",
       "      <th>celeron</th>\n",
       "      <th>i3</th>\n",
       "      <th>...</th>\n",
       "      <th>i9</th>\n",
       "      <th>m1</th>\n",
       "      <th>m2</th>\n",
       "      <th>ryzen3</th>\n",
       "      <th>ryzen5</th>\n",
       "      <th>ryzen7</th>\n",
       "      <th>ryzen9</th>\n",
       "      <th>Ram</th>\n",
       "      <th>Hafıza</th>\n",
       "      <th>EkranBoyutu</th>\n",
       "    </tr>\n",
       "  </thead>\n",
       "  <tbody>\n",
       "    <tr>\n",
       "      <th>0</th>\n",
       "      <td>0.0</td>\n",
       "      <td>0.0</td>\n",
       "      <td>0.0</td>\n",
       "      <td>0.0</td>\n",
       "      <td>1.0</td>\n",
       "      <td>0.0</td>\n",
       "      <td>0.0</td>\n",
       "      <td>0.0</td>\n",
       "      <td>0.0</td>\n",
       "      <td>0.0</td>\n",
       "      <td>...</td>\n",
       "      <td>0.0</td>\n",
       "      <td>0.0</td>\n",
       "      <td>0.0</td>\n",
       "      <td>0.0</td>\n",
       "      <td>0.0</td>\n",
       "      <td>0.0</td>\n",
       "      <td>0.0</td>\n",
       "      <td>16</td>\n",
       "      <td>512</td>\n",
       "      <td>15.6</td>\n",
       "    </tr>\n",
       "    <tr>\n",
       "      <th>1</th>\n",
       "      <td>0.0</td>\n",
       "      <td>0.0</td>\n",
       "      <td>0.0</td>\n",
       "      <td>0.0</td>\n",
       "      <td>0.0</td>\n",
       "      <td>1.0</td>\n",
       "      <td>0.0</td>\n",
       "      <td>0.0</td>\n",
       "      <td>0.0</td>\n",
       "      <td>0.0</td>\n",
       "      <td>...</td>\n",
       "      <td>0.0</td>\n",
       "      <td>0.0</td>\n",
       "      <td>0.0</td>\n",
       "      <td>0.0</td>\n",
       "      <td>0.0</td>\n",
       "      <td>0.0</td>\n",
       "      <td>0.0</td>\n",
       "      <td>8</td>\n",
       "      <td>512</td>\n",
       "      <td>15.6</td>\n",
       "    </tr>\n",
       "    <tr>\n",
       "      <th>2</th>\n",
       "      <td>0.0</td>\n",
       "      <td>1.0</td>\n",
       "      <td>0.0</td>\n",
       "      <td>0.0</td>\n",
       "      <td>0.0</td>\n",
       "      <td>0.0</td>\n",
       "      <td>0.0</td>\n",
       "      <td>0.0</td>\n",
       "      <td>0.0</td>\n",
       "      <td>0.0</td>\n",
       "      <td>...</td>\n",
       "      <td>0.0</td>\n",
       "      <td>1.0</td>\n",
       "      <td>0.0</td>\n",
       "      <td>0.0</td>\n",
       "      <td>0.0</td>\n",
       "      <td>0.0</td>\n",
       "      <td>0.0</td>\n",
       "      <td>16</td>\n",
       "      <td>256</td>\n",
       "      <td>13.3</td>\n",
       "    </tr>\n",
       "    <tr>\n",
       "      <th>3</th>\n",
       "      <td>0.0</td>\n",
       "      <td>0.0</td>\n",
       "      <td>0.0</td>\n",
       "      <td>0.0</td>\n",
       "      <td>0.0</td>\n",
       "      <td>1.0</td>\n",
       "      <td>0.0</td>\n",
       "      <td>0.0</td>\n",
       "      <td>0.0</td>\n",
       "      <td>0.0</td>\n",
       "      <td>...</td>\n",
       "      <td>0.0</td>\n",
       "      <td>0.0</td>\n",
       "      <td>0.0</td>\n",
       "      <td>0.0</td>\n",
       "      <td>0.0</td>\n",
       "      <td>0.0</td>\n",
       "      <td>0.0</td>\n",
       "      <td>8</td>\n",
       "      <td>256</td>\n",
       "      <td>15.6</td>\n",
       "    </tr>\n",
       "    <tr>\n",
       "      <th>4</th>\n",
       "      <td>0.0</td>\n",
       "      <td>0.0</td>\n",
       "      <td>0.0</td>\n",
       "      <td>0.0</td>\n",
       "      <td>1.0</td>\n",
       "      <td>0.0</td>\n",
       "      <td>0.0</td>\n",
       "      <td>0.0</td>\n",
       "      <td>0.0</td>\n",
       "      <td>1.0</td>\n",
       "      <td>...</td>\n",
       "      <td>0.0</td>\n",
       "      <td>0.0</td>\n",
       "      <td>0.0</td>\n",
       "      <td>0.0</td>\n",
       "      <td>0.0</td>\n",
       "      <td>0.0</td>\n",
       "      <td>0.0</td>\n",
       "      <td>8</td>\n",
       "      <td>256</td>\n",
       "      <td>15.6</td>\n",
       "    </tr>\n",
       "    <tr>\n",
       "      <th>...</th>\n",
       "      <td>...</td>\n",
       "      <td>...</td>\n",
       "      <td>...</td>\n",
       "      <td>...</td>\n",
       "      <td>...</td>\n",
       "      <td>...</td>\n",
       "      <td>...</td>\n",
       "      <td>...</td>\n",
       "      <td>...</td>\n",
       "      <td>...</td>\n",
       "      <td>...</td>\n",
       "      <td>...</td>\n",
       "      <td>...</td>\n",
       "      <td>...</td>\n",
       "      <td>...</td>\n",
       "      <td>...</td>\n",
       "      <td>...</td>\n",
       "      <td>...</td>\n",
       "      <td>...</td>\n",
       "      <td>...</td>\n",
       "      <td>...</td>\n",
       "    </tr>\n",
       "    <tr>\n",
       "      <th>138</th>\n",
       "      <td>0.0</td>\n",
       "      <td>0.0</td>\n",
       "      <td>0.0</td>\n",
       "      <td>0.0</td>\n",
       "      <td>1.0</td>\n",
       "      <td>0.0</td>\n",
       "      <td>0.0</td>\n",
       "      <td>0.0</td>\n",
       "      <td>0.0</td>\n",
       "      <td>0.0</td>\n",
       "      <td>...</td>\n",
       "      <td>0.0</td>\n",
       "      <td>0.0</td>\n",
       "      <td>0.0</td>\n",
       "      <td>0.0</td>\n",
       "      <td>0.0</td>\n",
       "      <td>0.0</td>\n",
       "      <td>0.0</td>\n",
       "      <td>16</td>\n",
       "      <td>512</td>\n",
       "      <td>15.6</td>\n",
       "    </tr>\n",
       "    <tr>\n",
       "      <th>139</th>\n",
       "      <td>0.0</td>\n",
       "      <td>1.0</td>\n",
       "      <td>0.0</td>\n",
       "      <td>0.0</td>\n",
       "      <td>0.0</td>\n",
       "      <td>0.0</td>\n",
       "      <td>0.0</td>\n",
       "      <td>0.0</td>\n",
       "      <td>0.0</td>\n",
       "      <td>0.0</td>\n",
       "      <td>...</td>\n",
       "      <td>0.0</td>\n",
       "      <td>0.0</td>\n",
       "      <td>1.0</td>\n",
       "      <td>0.0</td>\n",
       "      <td>0.0</td>\n",
       "      <td>0.0</td>\n",
       "      <td>0.0</td>\n",
       "      <td>8</td>\n",
       "      <td>512</td>\n",
       "      <td>15.0</td>\n",
       "    </tr>\n",
       "    <tr>\n",
       "      <th>140</th>\n",
       "      <td>0.0</td>\n",
       "      <td>1.0</td>\n",
       "      <td>0.0</td>\n",
       "      <td>0.0</td>\n",
       "      <td>0.0</td>\n",
       "      <td>0.0</td>\n",
       "      <td>0.0</td>\n",
       "      <td>0.0</td>\n",
       "      <td>0.0</td>\n",
       "      <td>0.0</td>\n",
       "      <td>...</td>\n",
       "      <td>0.0</td>\n",
       "      <td>0.0</td>\n",
       "      <td>1.0</td>\n",
       "      <td>0.0</td>\n",
       "      <td>0.0</td>\n",
       "      <td>0.0</td>\n",
       "      <td>0.0</td>\n",
       "      <td>8</td>\n",
       "      <td>512</td>\n",
       "      <td>15.0</td>\n",
       "    </tr>\n",
       "    <tr>\n",
       "      <th>141</th>\n",
       "      <td>0.0</td>\n",
       "      <td>1.0</td>\n",
       "      <td>0.0</td>\n",
       "      <td>0.0</td>\n",
       "      <td>0.0</td>\n",
       "      <td>0.0</td>\n",
       "      <td>0.0</td>\n",
       "      <td>0.0</td>\n",
       "      <td>0.0</td>\n",
       "      <td>0.0</td>\n",
       "      <td>...</td>\n",
       "      <td>0.0</td>\n",
       "      <td>0.0</td>\n",
       "      <td>1.0</td>\n",
       "      <td>0.0</td>\n",
       "      <td>0.0</td>\n",
       "      <td>0.0</td>\n",
       "      <td>0.0</td>\n",
       "      <td>16</td>\n",
       "      <td>1024</td>\n",
       "      <td>14.0</td>\n",
       "    </tr>\n",
       "    <tr>\n",
       "      <th>142</th>\n",
       "      <td>0.0</td>\n",
       "      <td>0.0</td>\n",
       "      <td>1.0</td>\n",
       "      <td>0.0</td>\n",
       "      <td>0.0</td>\n",
       "      <td>0.0</td>\n",
       "      <td>0.0</td>\n",
       "      <td>0.0</td>\n",
       "      <td>0.0</td>\n",
       "      <td>0.0</td>\n",
       "      <td>...</td>\n",
       "      <td>0.0</td>\n",
       "      <td>0.0</td>\n",
       "      <td>0.0</td>\n",
       "      <td>0.0</td>\n",
       "      <td>0.0</td>\n",
       "      <td>0.0</td>\n",
       "      <td>0.0</td>\n",
       "      <td>8</td>\n",
       "      <td>512</td>\n",
       "      <td>15.6</td>\n",
       "    </tr>\n",
       "  </tbody>\n",
       "</table>\n",
       "<p>143 rows × 22 columns</p>\n",
       "</div>"
      ],
      "text/plain": [
       "     Acer  Apple  Asus  Casper   HP  Huawei  Lenovo  athlon  celeron   i3  \\\n",
       "0     0.0    0.0   0.0     0.0  1.0     0.0     0.0     0.0      0.0  0.0   \n",
       "1     0.0    0.0   0.0     0.0  0.0     1.0     0.0     0.0      0.0  0.0   \n",
       "2     0.0    1.0   0.0     0.0  0.0     0.0     0.0     0.0      0.0  0.0   \n",
       "3     0.0    0.0   0.0     0.0  0.0     1.0     0.0     0.0      0.0  0.0   \n",
       "4     0.0    0.0   0.0     0.0  1.0     0.0     0.0     0.0      0.0  1.0   \n",
       "..    ...    ...   ...     ...  ...     ...     ...     ...      ...  ...   \n",
       "138   0.0    0.0   0.0     0.0  1.0     0.0     0.0     0.0      0.0  0.0   \n",
       "139   0.0    1.0   0.0     0.0  0.0     0.0     0.0     0.0      0.0  0.0   \n",
       "140   0.0    1.0   0.0     0.0  0.0     0.0     0.0     0.0      0.0  0.0   \n",
       "141   0.0    1.0   0.0     0.0  0.0     0.0     0.0     0.0      0.0  0.0   \n",
       "142   0.0    0.0   1.0     0.0  0.0     0.0     0.0     0.0      0.0  0.0   \n",
       "\n",
       "     ...   i9   m1   m2  ryzen3  ryzen5  ryzen7  ryzen9  Ram  Hafıza  \\\n",
       "0    ...  0.0  0.0  0.0     0.0     0.0     0.0     0.0   16     512   \n",
       "1    ...  0.0  0.0  0.0     0.0     0.0     0.0     0.0    8     512   \n",
       "2    ...  0.0  1.0  0.0     0.0     0.0     0.0     0.0   16     256   \n",
       "3    ...  0.0  0.0  0.0     0.0     0.0     0.0     0.0    8     256   \n",
       "4    ...  0.0  0.0  0.0     0.0     0.0     0.0     0.0    8     256   \n",
       "..   ...  ...  ...  ...     ...     ...     ...     ...  ...     ...   \n",
       "138  ...  0.0  0.0  0.0     0.0     0.0     0.0     0.0   16     512   \n",
       "139  ...  0.0  0.0  1.0     0.0     0.0     0.0     0.0    8     512   \n",
       "140  ...  0.0  0.0  1.0     0.0     0.0     0.0     0.0    8     512   \n",
       "141  ...  0.0  0.0  1.0     0.0     0.0     0.0     0.0   16    1024   \n",
       "142  ...  0.0  0.0  0.0     0.0     0.0     0.0     0.0    8     512   \n",
       "\n",
       "     EkranBoyutu  \n",
       "0           15.6  \n",
       "1           15.6  \n",
       "2           13.3  \n",
       "3           15.6  \n",
       "4           15.6  \n",
       "..           ...  \n",
       "138         15.6  \n",
       "139         15.0  \n",
       "140         15.0  \n",
       "141         14.0  \n",
       "142         15.6  \n",
       "\n",
       "[143 rows x 22 columns]"
      ]
     },
     "execution_count": 310,
     "metadata": {},
     "output_type": "execute_result"
    }
   ],
   "source": [
    "X #bağımsız değişkenler markalar, işlemciler, ram, hafıza ve ekran boyutu"
   ]
  },
  {
   "cell_type": "code",
   "execution_count": 311,
   "id": "1a0dfe2e",
   "metadata": {},
   "outputs": [],
   "source": [
    "y=data2.iloc[:,-1:]"
   ]
  },
  {
   "cell_type": "code",
   "execution_count": 312,
   "id": "bbb841c2",
   "metadata": {},
   "outputs": [
    {
     "data": {
      "text/html": [
       "<div>\n",
       "<style scoped>\n",
       "    .dataframe tbody tr th:only-of-type {\n",
       "        vertical-align: middle;\n",
       "    }\n",
       "\n",
       "    .dataframe tbody tr th {\n",
       "        vertical-align: top;\n",
       "    }\n",
       "\n",
       "    .dataframe thead th {\n",
       "        text-align: right;\n",
       "    }\n",
       "</style>\n",
       "<table border=\"1\" class=\"dataframe\">\n",
       "  <thead>\n",
       "    <tr style=\"text-align: right;\">\n",
       "      <th></th>\n",
       "      <th>Fiyat</th>\n",
       "    </tr>\n",
       "  </thead>\n",
       "  <tbody>\n",
       "    <tr>\n",
       "      <th>0</th>\n",
       "      <td>27999</td>\n",
       "    </tr>\n",
       "    <tr>\n",
       "      <th>1</th>\n",
       "      <td>14999</td>\n",
       "    </tr>\n",
       "    <tr>\n",
       "      <th>2</th>\n",
       "      <td>25999</td>\n",
       "    </tr>\n",
       "    <tr>\n",
       "      <th>3</th>\n",
       "      <td>12499</td>\n",
       "    </tr>\n",
       "    <tr>\n",
       "      <th>4</th>\n",
       "      <td>9499</td>\n",
       "    </tr>\n",
       "    <tr>\n",
       "      <th>...</th>\n",
       "      <td>...</td>\n",
       "    </tr>\n",
       "    <tr>\n",
       "      <th>138</th>\n",
       "      <td>33499</td>\n",
       "    </tr>\n",
       "    <tr>\n",
       "      <th>139</th>\n",
       "      <td>47499</td>\n",
       "    </tr>\n",
       "    <tr>\n",
       "      <th>140</th>\n",
       "      <td>47499</td>\n",
       "    </tr>\n",
       "    <tr>\n",
       "      <th>141</th>\n",
       "      <td>71999</td>\n",
       "    </tr>\n",
       "    <tr>\n",
       "      <th>142</th>\n",
       "      <td>16997</td>\n",
       "    </tr>\n",
       "  </tbody>\n",
       "</table>\n",
       "<p>143 rows × 1 columns</p>\n",
       "</div>"
      ],
      "text/plain": [
       "     Fiyat\n",
       "0    27999\n",
       "1    14999\n",
       "2    25999\n",
       "3    12499\n",
       "4     9499\n",
       "..     ...\n",
       "138  33499\n",
       "139  47499\n",
       "140  47499\n",
       "141  71999\n",
       "142  16997\n",
       "\n",
       "[143 rows x 1 columns]"
      ]
     },
     "execution_count": 312,
     "metadata": {},
     "output_type": "execute_result"
    }
   ],
   "source": [
    "y #bağımlı değişken,fiyat"
   ]
  },
  {
   "cell_type": "markdown",
   "id": "b698cc64",
   "metadata": {},
   "source": [
    "### Ön İstatiksel Analiz"
   ]
  },
  {
   "cell_type": "code",
   "execution_count": 313,
   "id": "89e5447f",
   "metadata": {},
   "outputs": [
    {
     "data": {
      "text/html": [
       "<div>\n",
       "<style scoped>\n",
       "    .dataframe tbody tr th:only-of-type {\n",
       "        vertical-align: middle;\n",
       "    }\n",
       "\n",
       "    .dataframe tbody tr th {\n",
       "        vertical-align: top;\n",
       "    }\n",
       "\n",
       "    .dataframe thead th {\n",
       "        text-align: right;\n",
       "    }\n",
       "</style>\n",
       "<table border=\"1\" class=\"dataframe\">\n",
       "  <thead>\n",
       "    <tr style=\"text-align: right;\">\n",
       "      <th></th>\n",
       "      <th>Fiyat</th>\n",
       "    </tr>\n",
       "  </thead>\n",
       "  <tbody>\n",
       "    <tr>\n",
       "      <th>count</th>\n",
       "      <td>143.000000</td>\n",
       "    </tr>\n",
       "    <tr>\n",
       "      <th>mean</th>\n",
       "      <td>29300.734266</td>\n",
       "    </tr>\n",
       "    <tr>\n",
       "      <th>std</th>\n",
       "      <td>19899.556983</td>\n",
       "    </tr>\n",
       "    <tr>\n",
       "      <th>min</th>\n",
       "      <td>5999.000000</td>\n",
       "    </tr>\n",
       "    <tr>\n",
       "      <th>25%</th>\n",
       "      <td>14999.000000</td>\n",
       "    </tr>\n",
       "    <tr>\n",
       "      <th>50%</th>\n",
       "      <td>23499.000000</td>\n",
       "    </tr>\n",
       "    <tr>\n",
       "      <th>75%</th>\n",
       "      <td>39549.000000</td>\n",
       "    </tr>\n",
       "    <tr>\n",
       "      <th>max</th>\n",
       "      <td>119999.000000</td>\n",
       "    </tr>\n",
       "  </tbody>\n",
       "</table>\n",
       "</div>"
      ],
      "text/plain": [
       "               Fiyat\n",
       "count     143.000000\n",
       "mean    29300.734266\n",
       "std     19899.556983\n",
       "min      5999.000000\n",
       "25%     14999.000000\n",
       "50%     23499.000000\n",
       "75%     39549.000000\n",
       "max    119999.000000"
      ]
     },
     "execution_count": 313,
     "metadata": {},
     "output_type": "execute_result"
    }
   ],
   "source": [
    "y.describe()"
   ]
  },
  {
   "cell_type": "code",
   "execution_count": 314,
   "id": "54cf5811",
   "metadata": {},
   "outputs": [
    {
     "data": {
      "text/html": [
       "<div>\n",
       "<style scoped>\n",
       "    .dataframe tbody tr th:only-of-type {\n",
       "        vertical-align: middle;\n",
       "    }\n",
       "\n",
       "    .dataframe tbody tr th {\n",
       "        vertical-align: top;\n",
       "    }\n",
       "\n",
       "    .dataframe thead th {\n",
       "        text-align: right;\n",
       "    }\n",
       "</style>\n",
       "<table border=\"1\" class=\"dataframe\">\n",
       "  <thead>\n",
       "    <tr style=\"text-align: right;\">\n",
       "      <th></th>\n",
       "      <th>Ram</th>\n",
       "      <th>Hafıza</th>\n",
       "      <th>EkranBoyutu</th>\n",
       "    </tr>\n",
       "  </thead>\n",
       "  <tbody>\n",
       "    <tr>\n",
       "      <th>count</th>\n",
       "      <td>143.000000</td>\n",
       "      <td>143.000000</td>\n",
       "      <td>143.000000</td>\n",
       "    </tr>\n",
       "    <tr>\n",
       "      <th>mean</th>\n",
       "      <td>11.496503</td>\n",
       "      <td>507.524476</td>\n",
       "      <td>15.013287</td>\n",
       "    </tr>\n",
       "    <tr>\n",
       "      <th>std</th>\n",
       "      <td>5.811443</td>\n",
       "      <td>327.975777</td>\n",
       "      <td>1.034833</td>\n",
       "    </tr>\n",
       "    <tr>\n",
       "      <th>min</th>\n",
       "      <td>4.000000</td>\n",
       "      <td>120.000000</td>\n",
       "      <td>13.300000</td>\n",
       "    </tr>\n",
       "    <tr>\n",
       "      <th>25%</th>\n",
       "      <td>8.000000</td>\n",
       "      <td>256.000000</td>\n",
       "      <td>14.000000</td>\n",
       "    </tr>\n",
       "    <tr>\n",
       "      <th>50%</th>\n",
       "      <td>8.000000</td>\n",
       "      <td>512.000000</td>\n",
       "      <td>15.600000</td>\n",
       "    </tr>\n",
       "    <tr>\n",
       "      <th>75%</th>\n",
       "      <td>16.000000</td>\n",
       "      <td>512.000000</td>\n",
       "      <td>15.600000</td>\n",
       "    </tr>\n",
       "    <tr>\n",
       "      <th>max</th>\n",
       "      <td>32.000000</td>\n",
       "      <td>2048.000000</td>\n",
       "      <td>18.000000</td>\n",
       "    </tr>\n",
       "  </tbody>\n",
       "</table>\n",
       "</div>"
      ],
      "text/plain": [
       "              Ram       Hafıza  EkranBoyutu\n",
       "count  143.000000   143.000000   143.000000\n",
       "mean    11.496503   507.524476    15.013287\n",
       "std      5.811443   327.975777     1.034833\n",
       "min      4.000000   120.000000    13.300000\n",
       "25%      8.000000   256.000000    14.000000\n",
       "50%      8.000000   512.000000    15.600000\n",
       "75%     16.000000   512.000000    15.600000\n",
       "max     32.000000  2048.000000    18.000000"
      ]
     },
     "execution_count": 314,
     "metadata": {},
     "output_type": "execute_result"
    }
   ],
   "source": [
    "X.iloc[:,-3:].describe()"
   ]
  },
  {
   "cell_type": "code",
   "execution_count": 315,
   "id": "d0089d5c",
   "metadata": {},
   "outputs": [
    {
     "data": {
      "image/png": "[encoded data removed]",
      "text/plain": [
       "<Figure size 800x1200 with 3 Axes>"
      ]
     },
     "metadata": {},
     "output_type": "display_data"
    }
   ],
   "source": [
    "fig, (ax1, ax2, ax3) = plt.subplots(3,1, figsize=(8, 12))\n",
    "\n",
    "ax1.scatter(y,X['Ram'])\n",
    "ax1.set_title('Ram-Fiyat')\n",
    "\n",
    "ax2.scatter(y, X['Hafıza'])\n",
    "ax2.set_title('Hafıza-Fiyat')\n",
    "\n",
    "ax3.scatter(y, X['EkranBoyutu'])\n",
    "ax3.set_title('Ekran Boyutu-Fiyat')\n",
    "\n",
    "plt.tight_layout()\n",
    "plt.show()"
   ]
  },
  {
   "cell_type": "code",
   "execution_count": 316,
   "id": "b26390c1",
   "metadata": {},
   "outputs": [],
   "source": [
    "full_data=pd.concat([y,X],axis=1)"
   ]
  },
  {
   "cell_type": "code",
   "execution_count": 317,
   "id": "0cc70d6b",
   "metadata": {},
   "outputs": [
    {
     "data": {
      "text/html": [
       "<div>\n",
       "<style scoped>\n",
       "    .dataframe tbody tr th:only-of-type {\n",
       "        vertical-align: middle;\n",
       "    }\n",
       "\n",
       "    .dataframe tbody tr th {\n",
       "        vertical-align: top;\n",
       "    }\n",
       "\n",
       "    .dataframe thead th {\n",
       "        text-align: right;\n",
       "    }\n",
       "</style>\n",
       "<table border=\"1\" class=\"dataframe\">\n",
       "  <thead>\n",
       "    <tr style=\"text-align: right;\">\n",
       "      <th></th>\n",
       "      <th>Fiyat</th>\n",
       "      <th>Ram</th>\n",
       "      <th>Hafıza</th>\n",
       "      <th>EkranBoyutu</th>\n",
       "    </tr>\n",
       "  </thead>\n",
       "  <tbody>\n",
       "    <tr>\n",
       "      <th>count</th>\n",
       "      <td>43.000000</td>\n",
       "      <td>43.000000</td>\n",
       "      <td>43.000000</td>\n",
       "      <td>43.000000</td>\n",
       "    </tr>\n",
       "    <tr>\n",
       "      <th>mean</th>\n",
       "      <td>43710.627907</td>\n",
       "      <td>12.093023</td>\n",
       "      <td>446.511628</td>\n",
       "      <td>14.000000</td>\n",
       "    </tr>\n",
       "    <tr>\n",
       "      <th>std</th>\n",
       "      <td>16166.329785</td>\n",
       "      <td>5.051233</td>\n",
       "      <td>244.099938</td>\n",
       "      <td>0.896554</td>\n",
       "    </tr>\n",
       "    <tr>\n",
       "      <th>min</th>\n",
       "      <td>23499.000000</td>\n",
       "      <td>8.000000</td>\n",
       "      <td>256.000000</td>\n",
       "      <td>13.300000</td>\n",
       "    </tr>\n",
       "    <tr>\n",
       "      <th>25%</th>\n",
       "      <td>33999.000000</td>\n",
       "      <td>8.000000</td>\n",
       "      <td>256.000000</td>\n",
       "      <td>13.300000</td>\n",
       "    </tr>\n",
       "    <tr>\n",
       "      <th>50%</th>\n",
       "      <td>41499.000000</td>\n",
       "      <td>8.000000</td>\n",
       "      <td>512.000000</td>\n",
       "      <td>13.600000</td>\n",
       "    </tr>\n",
       "    <tr>\n",
       "      <th>75%</th>\n",
       "      <td>47499.000000</td>\n",
       "      <td>16.000000</td>\n",
       "      <td>512.000000</td>\n",
       "      <td>15.000000</td>\n",
       "    </tr>\n",
       "    <tr>\n",
       "      <th>max</th>\n",
       "      <td>89099.000000</td>\n",
       "      <td>32.000000</td>\n",
       "      <td>1024.000000</td>\n",
       "      <td>16.000000</td>\n",
       "    </tr>\n",
       "  </tbody>\n",
       "</table>\n",
       "</div>"
      ],
      "text/plain": [
       "              Fiyat        Ram       Hafıza  EkranBoyutu\n",
       "count     43.000000  43.000000    43.000000    43.000000\n",
       "mean   43710.627907  12.093023   446.511628    14.000000\n",
       "std    16166.329785   5.051233   244.099938     0.896554\n",
       "min    23499.000000   8.000000   256.000000    13.300000\n",
       "25%    33999.000000   8.000000   256.000000    13.300000\n",
       "50%    41499.000000   8.000000   512.000000    13.600000\n",
       "75%    47499.000000  16.000000   512.000000    15.000000\n",
       "max    89099.000000  32.000000  1024.000000    16.000000"
      ]
     },
     "execution_count": 317,
     "metadata": {},
     "output_type": "execute_result"
    }
   ],
   "source": [
    "Apple=full_data.copy()\n",
    "Apple.set_index('Apple', inplace=True)\n",
    "Apple=Apple.loc[1.0,['Fiyat','Ram','Hafıza','EkranBoyutu']]\n",
    "Apple.describe()"
   ]
  },
  {
   "cell_type": "code",
   "execution_count": 318,
   "id": "a3100ce7",
   "metadata": {},
   "outputs": [
    {
     "data": {
      "text/html": [
       "<div>\n",
       "<style scoped>\n",
       "    .dataframe tbody tr th:only-of-type {\n",
       "        vertical-align: middle;\n",
       "    }\n",
       "\n",
       "    .dataframe tbody tr th {\n",
       "        vertical-align: top;\n",
       "    }\n",
       "\n",
       "    .dataframe thead th {\n",
       "        text-align: right;\n",
       "    }\n",
       "</style>\n",
       "<table border=\"1\" class=\"dataframe\">\n",
       "  <thead>\n",
       "    <tr style=\"text-align: right;\">\n",
       "      <th></th>\n",
       "      <th>Fiyat</th>\n",
       "      <th>Ram</th>\n",
       "      <th>Hafıza</th>\n",
       "      <th>EkranBoyutu</th>\n",
       "    </tr>\n",
       "  </thead>\n",
       "  <tbody>\n",
       "    <tr>\n",
       "      <th>count</th>\n",
       "      <td>20.000000</td>\n",
       "      <td>20.000000</td>\n",
       "      <td>20.000000</td>\n",
       "      <td>20.000000</td>\n",
       "    </tr>\n",
       "    <tr>\n",
       "      <th>mean</th>\n",
       "      <td>32196.400000</td>\n",
       "      <td>12.200000</td>\n",
       "      <td>640.000000</td>\n",
       "      <td>15.405000</td>\n",
       "    </tr>\n",
       "    <tr>\n",
       "      <th>std</th>\n",
       "      <td>25173.778305</td>\n",
       "      <td>6.287833</td>\n",
       "      <td>393.975687</td>\n",
       "      <td>0.981124</td>\n",
       "    </tr>\n",
       "    <tr>\n",
       "      <th>min</th>\n",
       "      <td>8499.000000</td>\n",
       "      <td>4.000000</td>\n",
       "      <td>256.000000</td>\n",
       "      <td>13.300000</td>\n",
       "    </tr>\n",
       "    <tr>\n",
       "      <th>25%</th>\n",
       "      <td>17748.500000</td>\n",
       "      <td>8.000000</td>\n",
       "      <td>512.000000</td>\n",
       "      <td>15.600000</td>\n",
       "    </tr>\n",
       "    <tr>\n",
       "      <th>50%</th>\n",
       "      <td>24499.000000</td>\n",
       "      <td>8.000000</td>\n",
       "      <td>512.000000</td>\n",
       "      <td>15.600000</td>\n",
       "    </tr>\n",
       "    <tr>\n",
       "      <th>75%</th>\n",
       "      <td>43499.000000</td>\n",
       "      <td>16.000000</td>\n",
       "      <td>512.000000</td>\n",
       "      <td>15.600000</td>\n",
       "    </tr>\n",
       "    <tr>\n",
       "      <th>max</th>\n",
       "      <td>119999.000000</td>\n",
       "      <td>32.000000</td>\n",
       "      <td>2048.000000</td>\n",
       "      <td>18.000000</td>\n",
       "    </tr>\n",
       "  </tbody>\n",
       "</table>\n",
       "</div>"
      ],
      "text/plain": [
       "               Fiyat        Ram       Hafıza  EkranBoyutu\n",
       "count      20.000000  20.000000    20.000000    20.000000\n",
       "mean    32196.400000  12.200000   640.000000    15.405000\n",
       "std     25173.778305   6.287833   393.975687     0.981124\n",
       "min      8499.000000   4.000000   256.000000    13.300000\n",
       "25%     17748.500000   8.000000   512.000000    15.600000\n",
       "50%     24499.000000   8.000000   512.000000    15.600000\n",
       "75%     43499.000000  16.000000   512.000000    15.600000\n",
       "max    119999.000000  32.000000  2048.000000    18.000000"
      ]
     },
     "execution_count": 318,
     "metadata": {},
     "output_type": "execute_result"
    }
   ],
   "source": [
    "Asus=full_data.copy()\n",
    "Asus.set_index('Asus', inplace=True)\n",
    "Asus=Asus.loc[1.0,['Fiyat','Ram','Hafıza','EkranBoyutu']]\n",
    "Asus.describe()"
   ]
  },
  {
   "cell_type": "code",
   "execution_count": 319,
   "id": "4e6ac5fd",
   "metadata": {},
   "outputs": [
    {
     "data": {
      "text/html": [
       "<div>\n",
       "<style scoped>\n",
       "    .dataframe tbody tr th:only-of-type {\n",
       "        vertical-align: middle;\n",
       "    }\n",
       "\n",
       "    .dataframe tbody tr th {\n",
       "        vertical-align: top;\n",
       "    }\n",
       "\n",
       "    .dataframe thead th {\n",
       "        text-align: right;\n",
       "    }\n",
       "</style>\n",
       "<table border=\"1\" class=\"dataframe\">\n",
       "  <thead>\n",
       "    <tr style=\"text-align: right;\">\n",
       "      <th></th>\n",
       "      <th>Fiyat</th>\n",
       "      <th>Ram</th>\n",
       "      <th>Hafıza</th>\n",
       "      <th>EkranBoyutu</th>\n",
       "    </tr>\n",
       "  </thead>\n",
       "  <tbody>\n",
       "    <tr>\n",
       "      <th>count</th>\n",
       "      <td>7.000000</td>\n",
       "      <td>7.0</td>\n",
       "      <td>7.000000</td>\n",
       "      <td>7.000000e+00</td>\n",
       "    </tr>\n",
       "    <tr>\n",
       "      <th>mean</th>\n",
       "      <td>14713.285714</td>\n",
       "      <td>8.0</td>\n",
       "      <td>402.285714</td>\n",
       "      <td>1.560000e+01</td>\n",
       "    </tr>\n",
       "    <tr>\n",
       "      <th>std</th>\n",
       "      <td>5794.085654</td>\n",
       "      <td>4.0</td>\n",
       "      <td>187.372814</td>\n",
       "      <td>1.918685e-15</td>\n",
       "    </tr>\n",
       "    <tr>\n",
       "      <th>min</th>\n",
       "      <td>6999.000000</td>\n",
       "      <td>4.0</td>\n",
       "      <td>128.000000</td>\n",
       "      <td>1.560000e+01</td>\n",
       "    </tr>\n",
       "    <tr>\n",
       "      <th>25%</th>\n",
       "      <td>11499.000000</td>\n",
       "      <td>6.0</td>\n",
       "      <td>320.000000</td>\n",
       "      <td>1.560000e+01</td>\n",
       "    </tr>\n",
       "    <tr>\n",
       "      <th>50%</th>\n",
       "      <td>15999.000000</td>\n",
       "      <td>8.0</td>\n",
       "      <td>512.000000</td>\n",
       "      <td>1.560000e+01</td>\n",
       "    </tr>\n",
       "    <tr>\n",
       "      <th>75%</th>\n",
       "      <td>16999.000000</td>\n",
       "      <td>8.0</td>\n",
       "      <td>512.000000</td>\n",
       "      <td>1.560000e+01</td>\n",
       "    </tr>\n",
       "    <tr>\n",
       "      <th>max</th>\n",
       "      <td>22999.000000</td>\n",
       "      <td>16.0</td>\n",
       "      <td>512.000000</td>\n",
       "      <td>1.560000e+01</td>\n",
       "    </tr>\n",
       "  </tbody>\n",
       "</table>\n",
       "</div>"
      ],
      "text/plain": [
       "              Fiyat   Ram      Hafıza   EkranBoyutu\n",
       "count      7.000000   7.0    7.000000  7.000000e+00\n",
       "mean   14713.285714   8.0  402.285714  1.560000e+01\n",
       "std     5794.085654   4.0  187.372814  1.918685e-15\n",
       "min     6999.000000   4.0  128.000000  1.560000e+01\n",
       "25%    11499.000000   6.0  320.000000  1.560000e+01\n",
       "50%    15999.000000   8.0  512.000000  1.560000e+01\n",
       "75%    16999.000000   8.0  512.000000  1.560000e+01\n",
       "max    22999.000000  16.0  512.000000  1.560000e+01"
      ]
     },
     "execution_count": 319,
     "metadata": {},
     "output_type": "execute_result"
    }
   ],
   "source": [
    "Acer=full_data.copy()\n",
    "Acer.set_index('Acer', inplace=True)\n",
    "Acer=Acer.loc[1.0,['Fiyat','Ram','Hafıza','EkranBoyutu']]\n",
    "Acer.describe()"
   ]
  },
  {
   "cell_type": "code",
   "execution_count": 320,
   "id": "e9c08b59",
   "metadata": {},
   "outputs": [
    {
     "data": {
      "text/html": [
       "<div>\n",
       "<style scoped>\n",
       "    .dataframe tbody tr th:only-of-type {\n",
       "        vertical-align: middle;\n",
       "    }\n",
       "\n",
       "    .dataframe tbody tr th {\n",
       "        vertical-align: top;\n",
       "    }\n",
       "\n",
       "    .dataframe thead th {\n",
       "        text-align: right;\n",
       "    }\n",
       "</style>\n",
       "<table border=\"1\" class=\"dataframe\">\n",
       "  <thead>\n",
       "    <tr style=\"text-align: right;\">\n",
       "      <th></th>\n",
       "      <th>Fiyat</th>\n",
       "      <th>Ram</th>\n",
       "      <th>Hafıza</th>\n",
       "      <th>EkranBoyutu</th>\n",
       "    </tr>\n",
       "  </thead>\n",
       "  <tbody>\n",
       "    <tr>\n",
       "      <th>count</th>\n",
       "      <td>14.000000</td>\n",
       "      <td>14.000000</td>\n",
       "      <td>14.000000</td>\n",
       "      <td>14.000000</td>\n",
       "    </tr>\n",
       "    <tr>\n",
       "      <th>mean</th>\n",
       "      <td>18399.000000</td>\n",
       "      <td>11.714286</td>\n",
       "      <td>548.571429</td>\n",
       "      <td>15.371429</td>\n",
       "    </tr>\n",
       "    <tr>\n",
       "      <th>std</th>\n",
       "      <td>7824.222743</td>\n",
       "      <td>4.564555</td>\n",
       "      <td>225.434184</td>\n",
       "      <td>0.581018</td>\n",
       "    </tr>\n",
       "    <tr>\n",
       "      <th>min</th>\n",
       "      <td>5999.000000</td>\n",
       "      <td>4.000000</td>\n",
       "      <td>120.000000</td>\n",
       "      <td>14.000000</td>\n",
       "    </tr>\n",
       "    <tr>\n",
       "      <th>25%</th>\n",
       "      <td>12249.000000</td>\n",
       "      <td>8.000000</td>\n",
       "      <td>500.000000</td>\n",
       "      <td>15.600000</td>\n",
       "    </tr>\n",
       "    <tr>\n",
       "      <th>50%</th>\n",
       "      <td>16649.000000</td>\n",
       "      <td>12.000000</td>\n",
       "      <td>500.000000</td>\n",
       "      <td>15.600000</td>\n",
       "    </tr>\n",
       "    <tr>\n",
       "      <th>75%</th>\n",
       "      <td>25624.000000</td>\n",
       "      <td>16.000000</td>\n",
       "      <td>500.000000</td>\n",
       "      <td>15.600000</td>\n",
       "    </tr>\n",
       "    <tr>\n",
       "      <th>max</th>\n",
       "      <td>29499.000000</td>\n",
       "      <td>16.000000</td>\n",
       "      <td>1024.000000</td>\n",
       "      <td>15.600000</td>\n",
       "    </tr>\n",
       "  </tbody>\n",
       "</table>\n",
       "</div>"
      ],
      "text/plain": [
       "              Fiyat        Ram       Hafıza  EkranBoyutu\n",
       "count     14.000000  14.000000    14.000000    14.000000\n",
       "mean   18399.000000  11.714286   548.571429    15.371429\n",
       "std     7824.222743   4.564555   225.434184     0.581018\n",
       "min     5999.000000   4.000000   120.000000    14.000000\n",
       "25%    12249.000000   8.000000   500.000000    15.600000\n",
       "50%    16649.000000  12.000000   500.000000    15.600000\n",
       "75%    25624.000000  16.000000   500.000000    15.600000\n",
       "max    29499.000000  16.000000  1024.000000    15.600000"
      ]
     },
     "execution_count": 320,
     "metadata": {},
     "output_type": "execute_result"
    }
   ],
   "source": [
    "Casper=full_data.copy()\n",
    "Casper.set_index('Casper', inplace=True)\n",
    "Casper=Casper.loc[1.0,['Fiyat','Ram','Hafıza','EkranBoyutu']]\n",
    "Casper.describe()"
   ]
  },
  {
   "cell_type": "code",
   "execution_count": 321,
   "id": "bbd35a96",
   "metadata": {},
   "outputs": [
    {
     "data": {
      "text/html": [
       "<div>\n",
       "<style scoped>\n",
       "    .dataframe tbody tr th:only-of-type {\n",
       "        vertical-align: middle;\n",
       "    }\n",
       "\n",
       "    .dataframe tbody tr th {\n",
       "        vertical-align: top;\n",
       "    }\n",
       "\n",
       "    .dataframe thead th {\n",
       "        text-align: right;\n",
       "    }\n",
       "</style>\n",
       "<table border=\"1\" class=\"dataframe\">\n",
       "  <thead>\n",
       "    <tr style=\"text-align: right;\">\n",
       "      <th></th>\n",
       "      <th>Fiyat</th>\n",
       "      <th>Ram</th>\n",
       "      <th>Hafıza</th>\n",
       "      <th>EkranBoyutu</th>\n",
       "    </tr>\n",
       "  </thead>\n",
       "  <tbody>\n",
       "    <tr>\n",
       "      <th>count</th>\n",
       "      <td>7.000000</td>\n",
       "      <td>7.000000</td>\n",
       "      <td>7.000000</td>\n",
       "      <td>7.000000</td>\n",
       "    </tr>\n",
       "    <tr>\n",
       "      <th>mean</th>\n",
       "      <td>16041.857143</td>\n",
       "      <td>10.285714</td>\n",
       "      <td>402.285714</td>\n",
       "      <td>15.714286</td>\n",
       "    </tr>\n",
       "    <tr>\n",
       "      <th>std</th>\n",
       "      <td>4198.752649</td>\n",
       "      <td>3.903600</td>\n",
       "      <td>136.837756</td>\n",
       "      <td>0.195180</td>\n",
       "    </tr>\n",
       "    <tr>\n",
       "      <th>min</th>\n",
       "      <td>12499.000000</td>\n",
       "      <td>8.000000</td>\n",
       "      <td>256.000000</td>\n",
       "      <td>15.600000</td>\n",
       "    </tr>\n",
       "    <tr>\n",
       "      <th>25%</th>\n",
       "      <td>12899.000000</td>\n",
       "      <td>8.000000</td>\n",
       "      <td>256.000000</td>\n",
       "      <td>15.600000</td>\n",
       "    </tr>\n",
       "    <tr>\n",
       "      <th>50%</th>\n",
       "      <td>14999.000000</td>\n",
       "      <td>8.000000</td>\n",
       "      <td>512.000000</td>\n",
       "      <td>15.600000</td>\n",
       "    </tr>\n",
       "    <tr>\n",
       "      <th>75%</th>\n",
       "      <td>18499.000000</td>\n",
       "      <td>12.000000</td>\n",
       "      <td>512.000000</td>\n",
       "      <td>15.800000</td>\n",
       "    </tr>\n",
       "    <tr>\n",
       "      <th>max</th>\n",
       "      <td>21999.000000</td>\n",
       "      <td>16.000000</td>\n",
       "      <td>512.000000</td>\n",
       "      <td>16.000000</td>\n",
       "    </tr>\n",
       "  </tbody>\n",
       "</table>\n",
       "</div>"
      ],
      "text/plain": [
       "              Fiyat        Ram      Hafıza  EkranBoyutu\n",
       "count      7.000000   7.000000    7.000000     7.000000\n",
       "mean   16041.857143  10.285714  402.285714    15.714286\n",
       "std     4198.752649   3.903600  136.837756     0.195180\n",
       "min    12499.000000   8.000000  256.000000    15.600000\n",
       "25%    12899.000000   8.000000  256.000000    15.600000\n",
       "50%    14999.000000   8.000000  512.000000    15.600000\n",
       "75%    18499.000000  12.000000  512.000000    15.800000\n",
       "max    21999.000000  16.000000  512.000000    16.000000"
      ]
     },
     "execution_count": 321,
     "metadata": {},
     "output_type": "execute_result"
    }
   ],
   "source": [
    "Huawei=full_data.copy()\n",
    "Huawei.set_index('Huawei', inplace=True)\n",
    "Huawei=Huawei.loc[1.0,['Fiyat','Ram','Hafıza','EkranBoyutu']]\n",
    "Huawei.describe()"
   ]
  },
  {
   "cell_type": "code",
   "execution_count": 322,
   "id": "b1015077",
   "metadata": {},
   "outputs": [
    {
     "data": {
      "text/html": [
       "<div>\n",
       "<style scoped>\n",
       "    .dataframe tbody tr th:only-of-type {\n",
       "        vertical-align: middle;\n",
       "    }\n",
       "\n",
       "    .dataframe tbody tr th {\n",
       "        vertical-align: top;\n",
       "    }\n",
       "\n",
       "    .dataframe thead th {\n",
       "        text-align: right;\n",
       "    }\n",
       "</style>\n",
       "<table border=\"1\" class=\"dataframe\">\n",
       "  <thead>\n",
       "    <tr style=\"text-align: right;\">\n",
       "      <th></th>\n",
       "      <th>Fiyat</th>\n",
       "      <th>Ram</th>\n",
       "      <th>Hafıza</th>\n",
       "      <th>EkranBoyutu</th>\n",
       "    </tr>\n",
       "  </thead>\n",
       "  <tbody>\n",
       "    <tr>\n",
       "      <th>count</th>\n",
       "      <td>16.000000</td>\n",
       "      <td>16.000000</td>\n",
       "      <td>16.000000</td>\n",
       "      <td>16.000000</td>\n",
       "    </tr>\n",
       "    <tr>\n",
       "      <th>mean</th>\n",
       "      <td>27242.750000</td>\n",
       "      <td>13.000000</td>\n",
       "      <td>656.000000</td>\n",
       "      <td>15.906250</td>\n",
       "    </tr>\n",
       "    <tr>\n",
       "      <th>std</th>\n",
       "      <td>23696.384218</td>\n",
       "      <td>8.197561</td>\n",
       "      <td>552.776266</td>\n",
       "      <td>0.579044</td>\n",
       "    </tr>\n",
       "    <tr>\n",
       "      <th>min</th>\n",
       "      <td>9499.000000</td>\n",
       "      <td>8.000000</td>\n",
       "      <td>256.000000</td>\n",
       "      <td>15.600000</td>\n",
       "    </tr>\n",
       "    <tr>\n",
       "      <th>25%</th>\n",
       "      <td>12699.000000</td>\n",
       "      <td>8.000000</td>\n",
       "      <td>512.000000</td>\n",
       "      <td>15.600000</td>\n",
       "    </tr>\n",
       "    <tr>\n",
       "      <th>50%</th>\n",
       "      <td>19499.000000</td>\n",
       "      <td>8.000000</td>\n",
       "      <td>512.000000</td>\n",
       "      <td>15.600000</td>\n",
       "    </tr>\n",
       "    <tr>\n",
       "      <th>75%</th>\n",
       "      <td>28124.000000</td>\n",
       "      <td>16.000000</td>\n",
       "      <td>512.000000</td>\n",
       "      <td>16.100000</td>\n",
       "    </tr>\n",
       "    <tr>\n",
       "      <th>max</th>\n",
       "      <td>84999.000000</td>\n",
       "      <td>32.000000</td>\n",
       "      <td>2048.000000</td>\n",
       "      <td>17.300000</td>\n",
       "    </tr>\n",
       "  </tbody>\n",
       "</table>\n",
       "</div>"
      ],
      "text/plain": [
       "              Fiyat        Ram       Hafıza  EkranBoyutu\n",
       "count     16.000000  16.000000    16.000000    16.000000\n",
       "mean   27242.750000  13.000000   656.000000    15.906250\n",
       "std    23696.384218   8.197561   552.776266     0.579044\n",
       "min     9499.000000   8.000000   256.000000    15.600000\n",
       "25%    12699.000000   8.000000   512.000000    15.600000\n",
       "50%    19499.000000   8.000000   512.000000    15.600000\n",
       "75%    28124.000000  16.000000   512.000000    16.100000\n",
       "max    84999.000000  32.000000  2048.000000    17.300000"
      ]
     },
     "execution_count": 322,
     "metadata": {},
     "output_type": "execute_result"
    }
   ],
   "source": [
    "HP=full_data.copy()\n",
    "HP.set_index('HP', inplace=True)\n",
    "HP=HP.loc[1.0,['Fiyat','Ram','Hafıza','EkranBoyutu']]\n",
    "HP.describe()"
   ]
  },
  {
   "cell_type": "code",
   "execution_count": 323,
   "id": "9b42009f",
   "metadata": {},
   "outputs": [
    {
     "data": {
      "text/html": [
       "<div>\n",
       "<style scoped>\n",
       "    .dataframe tbody tr th:only-of-type {\n",
       "        vertical-align: middle;\n",
       "    }\n",
       "\n",
       "    .dataframe tbody tr th {\n",
       "        vertical-align: top;\n",
       "    }\n",
       "\n",
       "    .dataframe thead th {\n",
       "        text-align: right;\n",
       "    }\n",
       "</style>\n",
       "<table border=\"1\" class=\"dataframe\">\n",
       "  <thead>\n",
       "    <tr style=\"text-align: right;\">\n",
       "      <th></th>\n",
       "      <th>Fiyat</th>\n",
       "      <th>Ram</th>\n",
       "      <th>Hafıza</th>\n",
       "      <th>EkranBoyutu</th>\n",
       "    </tr>\n",
       "  </thead>\n",
       "  <tbody>\n",
       "    <tr>\n",
       "      <th>count</th>\n",
       "      <td>36.00000</td>\n",
       "      <td>36.000000</td>\n",
       "      <td>36.000000</td>\n",
       "      <td>36.000000</td>\n",
       "    </tr>\n",
       "    <tr>\n",
       "      <th>mean</th>\n",
       "      <td>21049.00000</td>\n",
       "      <td>10.555556</td>\n",
       "      <td>465.777778</td>\n",
       "      <td>15.219444</td>\n",
       "    </tr>\n",
       "    <tr>\n",
       "      <th>std</th>\n",
       "      <td>14821.05645</td>\n",
       "      <td>6.133954</td>\n",
       "      <td>300.034961</td>\n",
       "      <td>0.778577</td>\n",
       "    </tr>\n",
       "    <tr>\n",
       "      <th>min</th>\n",
       "      <td>6499.00000</td>\n",
       "      <td>4.000000</td>\n",
       "      <td>128.000000</td>\n",
       "      <td>13.300000</td>\n",
       "    </tr>\n",
       "    <tr>\n",
       "      <th>25%</th>\n",
       "      <td>12999.00000</td>\n",
       "      <td>8.000000</td>\n",
       "      <td>256.000000</td>\n",
       "      <td>14.500000</td>\n",
       "    </tr>\n",
       "    <tr>\n",
       "      <th>50%</th>\n",
       "      <td>16249.00000</td>\n",
       "      <td>8.000000</td>\n",
       "      <td>512.000000</td>\n",
       "      <td>15.600000</td>\n",
       "    </tr>\n",
       "    <tr>\n",
       "      <th>75%</th>\n",
       "      <td>21999.00000</td>\n",
       "      <td>8.000000</td>\n",
       "      <td>512.000000</td>\n",
       "      <td>15.600000</td>\n",
       "    </tr>\n",
       "    <tr>\n",
       "      <th>max</th>\n",
       "      <td>78499.00000</td>\n",
       "      <td>32.000000</td>\n",
       "      <td>2048.000000</td>\n",
       "      <td>16.000000</td>\n",
       "    </tr>\n",
       "  </tbody>\n",
       "</table>\n",
       "</div>"
      ],
      "text/plain": [
       "             Fiyat        Ram       Hafıza  EkranBoyutu\n",
       "count     36.00000  36.000000    36.000000    36.000000\n",
       "mean   21049.00000  10.555556   465.777778    15.219444\n",
       "std    14821.05645   6.133954   300.034961     0.778577\n",
       "min     6499.00000   4.000000   128.000000    13.300000\n",
       "25%    12999.00000   8.000000   256.000000    14.500000\n",
       "50%    16249.00000   8.000000   512.000000    15.600000\n",
       "75%    21999.00000   8.000000   512.000000    15.600000\n",
       "max    78499.00000  32.000000  2048.000000    16.000000"
      ]
     },
     "execution_count": 323,
     "metadata": {},
     "output_type": "execute_result"
    }
   ],
   "source": [
    "Lenovo=full_data.copy()\n",
    "Lenovo.set_index('Lenovo', inplace=True)\n",
    "Lenovo=Lenovo.loc[1.0,['Fiyat','Ram','Hafıza','EkranBoyutu']]\n",
    "Lenovo.describe()"
   ]
  },
  {
   "cell_type": "code",
   "execution_count": 324,
   "id": "515c562f",
   "metadata": {},
   "outputs": [],
   "source": [
    "list_mean=pd.DataFrame(np.sort(np.array([y.mean().values,[Acer['Fiyat'].mean()],[Asus['Fiyat'].mean()],[Apple['Fiyat'].mean()],[Casper['Fiyat'].mean()],[Huawei['Fiyat'].mean()],[HP['Fiyat'].mean()],[Lenovo['Fiyat'].mean()]])),\n",
    "             index=['Total','Acer','Asus','Apple','Casper','Huawei','HP','Lenovo'],\n",
    "                   columns=['Means'])"
   ]
  },
  {
   "cell_type": "code",
   "execution_count": 325,
   "id": "d2150f6a",
   "metadata": {},
   "outputs": [
    {
     "data": {
      "text/html": [
       "<div>\n",
       "<style scoped>\n",
       "    .dataframe tbody tr th:only-of-type {\n",
       "        vertical-align: middle;\n",
       "    }\n",
       "\n",
       "    .dataframe tbody tr th {\n",
       "        vertical-align: top;\n",
       "    }\n",
       "\n",
       "    .dataframe thead th {\n",
       "        text-align: right;\n",
       "    }\n",
       "</style>\n",
       "<table border=\"1\" class=\"dataframe\">\n",
       "  <thead>\n",
       "    <tr style=\"text-align: right;\">\n",
       "      <th></th>\n",
       "      <th>Means</th>\n",
       "    </tr>\n",
       "  </thead>\n",
       "  <tbody>\n",
       "    <tr>\n",
       "      <th>Total</th>\n",
       "      <td>29300.734266</td>\n",
       "    </tr>\n",
       "    <tr>\n",
       "      <th>Acer</th>\n",
       "      <td>14713.285714</td>\n",
       "    </tr>\n",
       "    <tr>\n",
       "      <th>Asus</th>\n",
       "      <td>32196.400000</td>\n",
       "    </tr>\n",
       "    <tr>\n",
       "      <th>Apple</th>\n",
       "      <td>43710.627907</td>\n",
       "    </tr>\n",
       "    <tr>\n",
       "      <th>Casper</th>\n",
       "      <td>18399.000000</td>\n",
       "    </tr>\n",
       "    <tr>\n",
       "      <th>Huawei</th>\n",
       "      <td>16041.857143</td>\n",
       "    </tr>\n",
       "    <tr>\n",
       "      <th>HP</th>\n",
       "      <td>27242.750000</td>\n",
       "    </tr>\n",
       "    <tr>\n",
       "      <th>Lenovo</th>\n",
       "      <td>21049.000000</td>\n",
       "    </tr>\n",
       "  </tbody>\n",
       "</table>\n",
       "</div>"
      ],
      "text/plain": [
       "               Means\n",
       "Total   29300.734266\n",
       "Acer    14713.285714\n",
       "Asus    32196.400000\n",
       "Apple   43710.627907\n",
       "Casper  18399.000000\n",
       "Huawei  16041.857143\n",
       "HP      27242.750000\n",
       "Lenovo  21049.000000"
      ]
     },
     "execution_count": 325,
     "metadata": {},
     "output_type": "execute_result"
    }
   ],
   "source": [
    "list_mean"
   ]
  },
  {
   "cell_type": "code",
   "execution_count": 326,
   "id": "a1fca647",
   "metadata": {},
   "outputs": [
    {
     "data": {
      "application/vnd.plotly.v1+json": {
       "config": {
        "plotlyServerURL": "https://plot.ly"
       },
       "data": [
        {
         "alignmentgroup": "True",
         "cliponaxis": false,
         "hovertemplate": "Markalar=%{x}<br>Ortalama Fiyatlar=%{y}<extra></extra>",
         "legendgroup": "",
         "marker": {
          "color": "#636efa",
          "pattern": {
           "shape": ""
          }
         },
         "name": "",
         "offsetgroup": "",
         "orientation": "v",
         "showlegend": false,
         "textangle": 0,
         "textfont": {
          "size": 12
         },
         "textposition": "outside",
         "texttemplate": "%{y:.2s}",
         "type": "bar",
         "x": [
          "Total",
          "Acer",
          "Asus",
          "Apple",
          "Casper",
          "Huawei",
          "HP",
          "Lenovo"
         ],
         "xaxis": "x",
         "y": [
          29300.734265734267,
          14713.285714285714,
          32196.4,
          43710.62790697674,
          18399,
          16041.857142857143,
          27242.75,
          21049
         ],
         "yaxis": "y"
        }
       ],
       "layout": {
        "barmode": "relative",
        "legend": {
         "tracegroupgap": 0
        },
        "template": {
         "data": {
          "bar": [
           {
            "error_x": {
             "color": "#2a3f5f"
            },
            "error_y": {
             "color": "#2a3f5f"
            },
            "marker": {
             "line": {
              "color": "#E5ECF6",
              "width": 0.5
             },
             "pattern": {
              "fillmode": "overlay",
              "size": 10,
              "solidity": 0.2
             }
            },
            "type": "bar"
           }
          ],
          "barpolar": [
           {
            "marker": {
             "line": {
              "color": "#E5ECF6",
              "width": 0.5
             },
             "pattern": {
              "fillmode": "overlay",
              "size": 10,
              "solidity": 0.2
             }
            },
            "type": "barpolar"
           }
          ],
          "carpet": [
           {
            "aaxis": {
             "endlinecolor": "#2a3f5f",
             "gridcolor": "white",
             "linecolor": "white",
             "minorgridcolor": "white",
             "startlinecolor": "#2a3f5f"
            },
            "baxis": {
             "endlinecolor": "#2a3f5f",
             "gridcolor": "white",
             "linecolor": "white",
             "minorgridcolor": "white",
             "startlinecolor": "#2a3f5f"
            },
            "type": "carpet"
           }
          ],
          "choropleth": [
           {
            "colorbar": {
             "outlinewidth": 0,
             "ticks": ""
            },
            "type": "choropleth"
           }
          ],
          "contour": [
           {
            "colorbar": {
             "outlinewidth": 0,
             "ticks": ""
            },
            "colorscale": [
             [
              0,
              "#0d0887"
             ],
             [
              0.1111111111111111,
              "#46039f"
             ],
             [
              0.2222222222222222,
              "#7201a8"
             ],
             [
              0.3333333333333333,
              "#9c179e"
             ],
             [
              0.4444444444444444,
              "#bd3786"
             ],
             [
              0.5555555555555556,
              "#d8576b"
             ],
             [
              0.6666666666666666,
              "#ed7953"
             ],
             [
              0.7777777777777778,
              "#fb9f3a"
             ],
             [
              0.8888888888888888,
              "#fdca26"
             ],
             [
              1,
              "#f0f921"
             ]
            ],
            "type": "contour"
           }
          ],
          "contourcarpet": [
           {
            "colorbar": {
             "outlinewidth": 0,
             "ticks": ""
            },
            "type": "contourcarpet"
           }
          ],
          "heatmap": [
           {
            "colorbar": {
             "outlinewidth": 0,
             "ticks": ""
            },
            "colorscale": [
             [
              0,
              "#0d0887"
             ],
             [
              0.1111111111111111,
              "#46039f"
             ],
             [
              0.2222222222222222,
              "#7201a8"
             ],
             [
              0.3333333333333333,
              "#9c179e"
             ],
             [
              0.4444444444444444,
              "#bd3786"
             ],
             [
              0.5555555555555556,
              "#d8576b"
             ],
             [
              0.6666666666666666,
              "#ed7953"
             ],
             [
              0.7777777777777778,
              "#fb9f3a"
             ],
             [
              0.8888888888888888,
              "#fdca26"
             ],
             [
              1,
              "#f0f921"
             ]
            ],
            "type": "heatmap"
           }
          ],
          "heatmapgl": [
           {
            "colorbar": {
             "outlinewidth": 0,
             "ticks": ""
            },
            "colorscale": [
             [
              0,
              "#0d0887"
             ],
             [
              0.1111111111111111,
              "#46039f"
             ],
             [
              0.2222222222222222,
              "#7201a8"
             ],
             [
              0.3333333333333333,
              "#9c179e"
             ],
             [
              0.4444444444444444,
              "#bd3786"
             ],
             [
              0.5555555555555556,
              "#d8576b"
             ],
             [
              0.6666666666666666,
              "#ed7953"
             ],
             [
              0.7777777777777778,
              "#fb9f3a"
             ],
             [
              0.8888888888888888,
              "#fdca26"
             ],
             [
              1,
              "#f0f921"
             ]
            ],
            "type": "heatmapgl"
           }
          ],
          "histogram": [
           {
            "marker": {
             "pattern": {
              "fillmode": "overlay",
              "size": 10,
              "solidity": 0.2
             }
            },
            "type": "histogram"
           }
          ],
          "histogram2d": [
           {
            "colorbar": {
             "outlinewidth": 0,
             "ticks": ""
            },
            "colorscale": [
             [
              0,
              "#0d0887"
             ],
             [
              0.1111111111111111,
              "#46039f"
             ],
             [
              0.2222222222222222,
              "#7201a8"
             ],
             [
              0.3333333333333333,
              "#9c179e"
             ],
             [
              0.4444444444444444,
              "#bd3786"
             ],
             [
              0.5555555555555556,
              "#d8576b"
             ],
             [
              0.6666666666666666,
              "#ed7953"
             ],
             [
              0.7777777777777778,
              "#fb9f3a"
             ],
             [
              0.8888888888888888,
              "#fdca26"
             ],
             [
              1,
              "#f0f921"
             ]
            ],
            "type": "histogram2d"
           }
          ],
          "histogram2dcontour": [
           {
            "colorbar": {
             "outlinewidth": 0,
             "ticks": ""
            },
            "colorscale": [
             [
              0,
              "#0d0887"
             ],
             [
              0.1111111111111111,
              "#46039f"
             ],
             [
              0.2222222222222222,
              "#7201a8"
             ],
             [
              0.3333333333333333,
              "#9c179e"
             ],
             [
              0.4444444444444444,
              "#bd3786"
             ],
             [
              0.5555555555555556,
              "#d8576b"
             ],
             [
              0.6666666666666666,
              "#ed7953"
             ],
             [
              0.7777777777777778,
              "#fb9f3a"
             ],
             [
              0.8888888888888888,
              "#fdca26"
             ],
             [
              1,
              "#f0f921"
             ]
            ],
            "type": "histogram2dcontour"
           }
          ],
          "mesh3d": [
           {
            "colorbar": {
             "outlinewidth": 0,
             "ticks": ""
            },
            "type": "mesh3d"
           }
          ],
          "parcoords": [
           {
            "line": {
             "colorbar": {
              "outlinewidth": 0,
              "ticks": ""
             }
            },
            "type": "parcoords"
           }
          ],
          "pie": [
           {
            "automargin": true,
            "type": "pie"
           }
          ],
          "scatter": [
           {
            "fillpattern": {
             "fillmode": "overlay",
             "size": 10,
             "solidity": 0.2
            },
            "type": "scatter"
           }
          ],
          "scatter3d": [
           {
            "line": {
             "colorbar": {
              "outlinewidth": 0,
              "ticks": ""
             }
            },
            "marker": {
             "colorbar": {
              "outlinewidth": 0,
              "ticks": ""
             }
            },
            "type": "scatter3d"
           }
          ],
          "scattercarpet": [
           {
            "marker": {
             "colorbar": {
              "outlinewidth": 0,
              "ticks": ""
             }
            },
            "type": "scattercarpet"
           }
          ],
          "scattergeo": [
           {
            "marker": {
             "colorbar": {
              "outlinewidth": 0,
              "ticks": ""
             }
            },
            "type": "scattergeo"
           }
          ],
          "scattergl": [
           {
            "marker": {
             "colorbar": {
              "outlinewidth": 0,
              "ticks": ""
             }
            },
            "type": "scattergl"
           }
          ],
          "scattermapbox": [
           {
            "marker": {
             "colorbar": {
              "outlinewidth": 0,
              "ticks": ""
             }
            },
            "type": "scattermapbox"
           }
          ],
          "scatterpolar": [
           {
            "marker": {
             "colorbar": {
              "outlinewidth": 0,
              "ticks": ""
             }
            },
            "type": "scatterpolar"
           }
          ],
          "scatterpolargl": [
           {
            "marker": {
             "colorbar": {
              "outlinewidth": 0,
              "ticks": ""
             }
            },
            "type": "scatterpolargl"
           }
          ],
          "scatterternary": [
           {
            "marker": {
             "colorbar": {
              "outlinewidth": 0,
              "ticks": ""
             }
            },
            "type": "scatterternary"
           }
          ],
          "surface": [
           {
            "colorbar": {
             "outlinewidth": 0,
             "ticks": ""
            },
            "colorscale": [
             [
              0,
              "#0d0887"
             ],
             [
              0.1111111111111111,
              "#46039f"
             ],
             [
              0.2222222222222222,
              "#7201a8"
             ],
             [
              0.3333333333333333,
              "#9c179e"
             ],
             [
              0.4444444444444444,
              "#bd3786"
             ],
             [
              0.5555555555555556,
              "#d8576b"
             ],
             [
              0.6666666666666666,
              "#ed7953"
             ],
             [
              0.7777777777777778,
              "#fb9f3a"
             ],
             [
              0.8888888888888888,
              "#fdca26"
             ],
             [
              1,
              "#f0f921"
             ]
            ],
            "type": "surface"
           }
          ],
          "table": [
           {
            "cells": {
             "fill": {
              "color": "#EBF0F8"
             },
             "line": {
              "color": "white"
             }
            },
            "header": {
             "fill": {
              "color": "#C8D4E3"
             },
             "line": {
              "color": "white"
             }
            },
            "type": "table"
           }
          ]
         },
         "layout": {
          "annotationdefaults": {
           "arrowcolor": "#2a3f5f",
           "arrowhead": 0,
           "arrowwidth": 1
          },
          "autotypenumbers": "strict",
          "coloraxis": {
           "colorbar": {
            "outlinewidth": 0,
            "ticks": ""
           }
          },
          "colorscale": {
           "diverging": [
            [
             0,
             "#8e0152"
            ],
            [
             0.1,
             "#c51b7d"
            ],
            [
             0.2,
             "#de77ae"
            ],
            [
             0.3,
             "#f1b6da"
            ],
            [
             0.4,
             "#fde0ef"
            ],
            [
             0.5,
             "#f7f7f7"
            ],
            [
             0.6,
             "#e6f5d0"
            ],
            [
             0.7,
             "#b8e186"
            ],
            [
             0.8,
             "#7fbc41"
            ],
            [
             0.9,
             "#4d9221"
            ],
            [
             1,
             "#276419"
            ]
           ],
           "sequential": [
            [
             0,
             "#0d0887"
            ],
            [
             0.1111111111111111,
             "#46039f"
            ],
            [
             0.2222222222222222,
             "#7201a8"
            ],
            [
             0.3333333333333333,
             "#9c179e"
            ],
            [
             0.4444444444444444,
             "#bd3786"
            ],
            [
             0.5555555555555556,
             "#d8576b"
            ],
            [
             0.6666666666666666,
             "#ed7953"
            ],
            [
             0.7777777777777778,
             "#fb9f3a"
            ],
            [
             0.8888888888888888,
             "#fdca26"
            ],
            [
             1,
             "#f0f921"
            ]
           ],
           "sequentialminus": [
            [
             0,
             "#0d0887"
            ],
            [
             0.1111111111111111,
             "#46039f"
            ],
            [
             0.2222222222222222,
             "#7201a8"
            ],
            [
             0.3333333333333333,
             "#9c179e"
            ],
            [
             0.4444444444444444,
             "#bd3786"
            ],
            [
             0.5555555555555556,
             "#d8576b"
            ],
            [
             0.6666666666666666,
             "#ed7953"
            ],
            [
             0.7777777777777778,
             "#fb9f3a"
            ],
            [
             0.8888888888888888,
             "#fdca26"
            ],
            [
             1,
             "#f0f921"
            ]
           ]
          },
          "colorway": [
           "#636efa",
           "#EF553B",
           "#00cc96",
           "#ab63fa",
           "#FFA15A",
           "#19d3f3",
           "#FF6692",
           "#B6E880",
           "#FF97FF",
           "#FECB52"
          ],
          "font": {
           "color": "#2a3f5f"
          },
          "geo": {
           "bgcolor": "white",
           "lakecolor": "white",
           "landcolor": "#E5ECF6",
           "showlakes": true,
           "showland": true,
           "subunitcolor": "white"
          },
          "hoverlabel": {
           "align": "left"
          },
          "hovermode": "closest",
          "mapbox": {
           "style": "light"
          },
          "paper_bgcolor": "white",
          "plot_bgcolor": "#E5ECF6",
          "polar": {
           "angularaxis": {
            "gridcolor": "white",
            "linecolor": "white",
            "ticks": ""
           },
           "bgcolor": "#E5ECF6",
           "radialaxis": {
            "gridcolor": "white",
            "linecolor": "white",
            "ticks": ""
           }
          },
          "scene": {
           "xaxis": {
            "backgroundcolor": "#E5ECF6",
            "gridcolor": "white",
            "gridwidth": 2,
            "linecolor": "white",
            "showbackground": true,
            "ticks": "",
            "zerolinecolor": "white"
           },
           "yaxis": {
            "backgroundcolor": "#E5ECF6",
            "gridcolor": "white",
            "gridwidth": 2,
            "linecolor": "white",
            "showbackground": true,
            "ticks": "",
            "zerolinecolor": "white"
           },
           "zaxis": {
            "backgroundcolor": "#E5ECF6",
            "gridcolor": "white",
            "gridwidth": 2,
            "linecolor": "white",
            "showbackground": true,
            "ticks": "",
            "zerolinecolor": "white"
           }
          },
          "shapedefaults": {
           "line": {
            "color": "#2a3f5f"
           }
          },
          "ternary": {
           "aaxis": {
            "gridcolor": "white",
            "linecolor": "white",
            "ticks": ""
           },
           "baxis": {
            "gridcolor": "white",
            "linecolor": "white",
            "ticks": ""
           },
           "bgcolor": "#E5ECF6",
           "caxis": {
            "gridcolor": "white",
            "linecolor": "white",
            "ticks": ""
           }
          },
          "title": {
           "x": 0.05
          },
          "xaxis": {
           "automargin": true,
           "gridcolor": "white",
           "linecolor": "white",
           "ticks": "",
           "title": {
            "standoff": 15
           },
           "zerolinecolor": "white",
           "zerolinewidth": 2
          },
          "yaxis": {
           "automargin": true,
           "gridcolor": "white",
           "linecolor": "white",
           "ticks": "",
           "title": {
            "standoff": 15
           },
           "zerolinecolor": "white",
           "zerolinewidth": 2
          }
         }
        },
        "title": {
         "text": "Marka Özelinde Fiyat Ortalamaları"
        },
        "xaxis": {
         "anchor": "y",
         "domain": [
          0,
          1
         ],
         "title": {
          "text": "Markalar"
         }
        },
        "yaxis": {
         "anchor": "x",
         "domain": [
          0,
          1
         ],
         "title": {
          "text": "Ortalama Fiyatlar"
         }
        }
       }
      },
      "text/html": [
       "<div>                            <div id=\"1a8723c8-1024-4017-a8d2-5e2213f25354\" class=\"plotly-graph-div\" style=\"height:525px; width:100%;\"></div>            <script type=\"text/javascript\">                require([\"plotly\"], function(Plotly) {                    window.PLOTLYENV=window.PLOTLYENV || {};                                    if (document.getElementById(\"1a8723c8-1024-4017-a8d2-5e2213f25354\")) {                    Plotly.newPlot(                        \"1a8723c8-1024-4017-a8d2-5e2213f25354\",                        [{\"alignmentgroup\":\"True\",\"hovertemplate\":\"Markalar=%{x}<br>Ortalama Fiyatlar=%{y}<extra></extra>\",\"legendgroup\":\"\",\"marker\":{\"color\":\"#636efa\",\"pattern\":{\"shape\":\"\"}},\"name\":\"\",\"offsetgroup\":\"\",\"orientation\":\"v\",\"showlegend\":false,\"textposition\":\"outside\",\"texttemplate\":\"%{y:.2s}\",\"x\":[\"Total\",\"Acer\",\"Asus\",\"Apple\",\"Casper\",\"Huawei\",\"HP\",\"Lenovo\"],\"xaxis\":\"x\",\"y\":[29300.734265734267,14713.285714285714,32196.4,43710.62790697674,18399.0,16041.857142857143,27242.75,21049.0],\"yaxis\":\"y\",\"type\":\"bar\",\"textfont\":{\"size\":12},\"cliponaxis\":false,\"textangle\":0}],                        {\"template\":{\"data\":{\"histogram2dcontour\":[{\"type\":\"histogram2dcontour\",\"colorbar\":{\"outlinewidth\":0,\"ticks\":\"\"},\"colorscale\":[[0.0,\"#0d0887\"],[0.1111111111111111,\"#46039f\"],[0.2222222222222222,\"#7201a8\"],[0.3333333333333333,\"#9c179e\"],[0.4444444444444444,\"#bd3786\"],[0.5555555555555556,\"#d8576b\"],[0.6666666666666666,\"#ed7953\"],[0.7777777777777778,\"#fb9f3a\"],[0.8888888888888888,\"#fdca26\"],[1.0,\"#f0f921\"]]}],\"choropleth\":[{\"type\":\"choropleth\",\"colorbar\":{\"outlinewidth\":0,\"ticks\":\"\"}}],\"histogram2d\":[{\"type\":\"histogram2d\",\"colorbar\":{\"outlinewidth\":0,\"ticks\":\"\"},\"colorscale\":[[0.0,\"#0d0887\"],[0.1111111111111111,\"#46039f\"],[0.2222222222222222,\"#7201a8\"],[0.3333333333333333,\"#9c179e\"],[0.4444444444444444,\"#bd3786\"],[0.5555555555555556,\"#d8576b\"],[0.6666666666666666,\"#ed7953\"],[0.7777777777777778,\"#fb9f3a\"],[0.8888888888888888,\"#fdca26\"],[1.0,\"#f0f921\"]]}],\"heatmap\":[{\"type\":\"heatmap\",\"colorbar\":{\"outlinewidth\":0,\"ticks\":\"\"},\"colorscale\":[[0.0,\"#0d0887\"],[0.1111111111111111,\"#46039f\"],[0.2222222222222222,\"#7201a8\"],[0.3333333333333333,\"#9c179e\"],[0.4444444444444444,\"#bd3786\"],[0.5555555555555556,\"#d8576b\"],[0.6666666666666666,\"#ed7953\"],[0.7777777777777778,\"#fb9f3a\"],[0.8888888888888888,\"#fdca26\"],[1.0,\"#f0f921\"]]}],\"heatmapgl\":[{\"type\":\"heatmapgl\",\"colorbar\":{\"outlinewidth\":0,\"ticks\":\"\"},\"colorscale\":[[0.0,\"#0d0887\"],[0.1111111111111111,\"#46039f\"],[0.2222222222222222,\"#7201a8\"],[0.3333333333333333,\"#9c179e\"],[0.4444444444444444,\"#bd3786\"],[0.5555555555555556,\"#d8576b\"],[0.6666666666666666,\"#ed7953\"],[0.7777777777777778,\"#fb9f3a\"],[0.8888888888888888,\"#fdca26\"],[1.0,\"#f0f921\"]]}],\"contourcarpet\":[{\"type\":\"contourcarpet\",\"colorbar\":{\"outlinewidth\":0,\"ticks\":\"\"}}],\"contour\":[{\"type\":\"contour\",\"colorbar\":{\"outlinewidth\":0,\"ticks\":\"\"},\"colorscale\":[[0.0,\"#0d0887\"],[0.1111111111111111,\"#46039f\"],[0.2222222222222222,\"#7201a8\"],[0.3333333333333333,\"#9c179e\"],[0.4444444444444444,\"#bd3786\"],[0.5555555555555556,\"#d8576b\"],[0.6666666666666666,\"#ed7953\"],[0.7777777777777778,\"#fb9f3a\"],[0.8888888888888888,\"#fdca26\"],[1.0,\"#f0f921\"]]}],\"surface\":[{\"type\":\"surface\",\"colorbar\":{\"outlinewidth\":0,\"ticks\":\"\"},\"colorscale\":[[0.0,\"#0d0887\"],[0.1111111111111111,\"#46039f\"],[0.2222222222222222,\"#7201a8\"],[0.3333333333333333,\"#9c179e\"],[0.4444444444444444,\"#bd3786\"],[0.5555555555555556,\"#d8576b\"],[0.6666666666666666,\"#ed7953\"],[0.7777777777777778,\"#fb9f3a\"],[0.8888888888888888,\"#fdca26\"],[1.0,\"#f0f921\"]]}],\"mesh3d\":[{\"type\":\"mesh3d\",\"colorbar\":{\"outlinewidth\":0,\"ticks\":\"\"}}],\"scatter\":[{\"fillpattern\":{\"fillmode\":\"overlay\",\"size\":10,\"solidity\":0.2},\"type\":\"scatter\"}],\"parcoords\":[{\"type\":\"parcoords\",\"line\":{\"colorbar\":{\"outlinewidth\":0,\"ticks\":\"\"}}}],\"scatterpolargl\":[{\"type\":\"scatterpolargl\",\"marker\":{\"colorbar\":{\"outlinewidth\":0,\"ticks\":\"\"}}}],\"bar\":[{\"error_x\":{\"color\":\"#2a3f5f\"},\"error_y\":{\"color\":\"#2a3f5f\"},\"marker\":{\"line\":{\"color\":\"#E5ECF6\",\"width\":0.5},\"pattern\":{\"fillmode\":\"overlay\",\"size\":10,\"solidity\":0.2}},\"type\":\"bar\"}],\"scattergeo\":[{\"type\":\"scattergeo\",\"marker\":{\"colorbar\":{\"outlinewidth\":0,\"ticks\":\"\"}}}],\"scatterpolar\":[{\"type\":\"scatterpolar\",\"marker\":{\"colorbar\":{\"outlinewidth\":0,\"ticks\":\"\"}}}],\"histogram\":[{\"marker\":{\"pattern\":{\"fillmode\":\"overlay\",\"size\":10,\"solidity\":0.2}},\"type\":\"histogram\"}],\"scattergl\":[{\"type\":\"scattergl\",\"marker\":{\"colorbar\":{\"outlinewidth\":0,\"ticks\":\"\"}}}],\"scatter3d\":[{\"type\":\"scatter3d\",\"line\":{\"colorbar\":{\"outlinewidth\":0,\"ticks\":\"\"}},\"marker\":{\"colorbar\":{\"outlinewidth\":0,\"ticks\":\"\"}}}],\"scattermapbox\":[{\"type\":\"scattermapbox\",\"marker\":{\"colorbar\":{\"outlinewidth\":0,\"ticks\":\"\"}}}],\"scatterternary\":[{\"type\":\"scatterternary\",\"marker\":{\"colorbar\":{\"outlinewidth\":0,\"ticks\":\"\"}}}],\"scattercarpet\":[{\"type\":\"scattercarpet\",\"marker\":{\"colorbar\":{\"outlinewidth\":0,\"ticks\":\"\"}}}],\"carpet\":[{\"aaxis\":{\"endlinecolor\":\"#2a3f5f\",\"gridcolor\":\"white\",\"linecolor\":\"white\",\"minorgridcolor\":\"white\",\"startlinecolor\":\"#2a3f5f\"},\"baxis\":{\"endlinecolor\":\"#2a3f5f\",\"gridcolor\":\"white\",\"linecolor\":\"white\",\"minorgridcolor\":\"white\",\"startlinecolor\":\"#2a3f5f\"},\"type\":\"carpet\"}],\"table\":[{\"cells\":{\"fill\":{\"color\":\"#EBF0F8\"},\"line\":{\"color\":\"white\"}},\"header\":{\"fill\":{\"color\":\"#C8D4E3\"},\"line\":{\"color\":\"white\"}},\"type\":\"table\"}],\"barpolar\":[{\"marker\":{\"line\":{\"color\":\"#E5ECF6\",\"width\":0.5},\"pattern\":{\"fillmode\":\"overlay\",\"size\":10,\"solidity\":0.2}},\"type\":\"barpolar\"}],\"pie\":[{\"automargin\":true,\"type\":\"pie\"}]},\"layout\":{\"autotypenumbers\":\"strict\",\"colorway\":[\"#636efa\",\"#EF553B\",\"#00cc96\",\"#ab63fa\",\"#FFA15A\",\"#19d3f3\",\"#FF6692\",\"#B6E880\",\"#FF97FF\",\"#FECB52\"],\"font\":{\"color\":\"#2a3f5f\"},\"hovermode\":\"closest\",\"hoverlabel\":{\"align\":\"left\"},\"paper_bgcolor\":\"white\",\"plot_bgcolor\":\"#E5ECF6\",\"polar\":{\"bgcolor\":\"#E5ECF6\",\"angularaxis\":{\"gridcolor\":\"white\",\"linecolor\":\"white\",\"ticks\":\"\"},\"radialaxis\":{\"gridcolor\":\"white\",\"linecolor\":\"white\",\"ticks\":\"\"}},\"ternary\":{\"bgcolor\":\"#E5ECF6\",\"aaxis\":{\"gridcolor\":\"white\",\"linecolor\":\"white\",\"ticks\":\"\"},\"baxis\":{\"gridcolor\":\"white\",\"linecolor\":\"white\",\"ticks\":\"\"},\"caxis\":{\"gridcolor\":\"white\",\"linecolor\":\"white\",\"ticks\":\"\"}},\"coloraxis\":{\"colorbar\":{\"outlinewidth\":0,\"ticks\":\"\"}},\"colorscale\":{\"sequential\":[[0.0,\"#0d0887\"],[0.1111111111111111,\"#46039f\"],[0.2222222222222222,\"#7201a8\"],[0.3333333333333333,\"#9c179e\"],[0.4444444444444444,\"#bd3786\"],[0.5555555555555556,\"#d8576b\"],[0.6666666666666666,\"#ed7953\"],[0.7777777777777778,\"#fb9f3a\"],[0.8888888888888888,\"#fdca26\"],[1.0,\"#f0f921\"]],\"sequentialminus\":[[0.0,\"#0d0887\"],[0.1111111111111111,\"#46039f\"],[0.2222222222222222,\"#7201a8\"],[0.3333333333333333,\"#9c179e\"],[0.4444444444444444,\"#bd3786\"],[0.5555555555555556,\"#d8576b\"],[0.6666666666666666,\"#ed7953\"],[0.7777777777777778,\"#fb9f3a\"],[0.8888888888888888,\"#fdca26\"],[1.0,\"#f0f921\"]],\"diverging\":[[0,\"#8e0152\"],[0.1,\"#c51b7d\"],[0.2,\"#de77ae\"],[0.3,\"#f1b6da\"],[0.4,\"#fde0ef\"],[0.5,\"#f7f7f7\"],[0.6,\"#e6f5d0\"],[0.7,\"#b8e186\"],[0.8,\"#7fbc41\"],[0.9,\"#4d9221\"],[1,\"#276419\"]]},\"xaxis\":{\"gridcolor\":\"white\",\"linecolor\":\"white\",\"ticks\":\"\",\"title\":{\"standoff\":15},\"zerolinecolor\":\"white\",\"automargin\":true,\"zerolinewidth\":2},\"yaxis\":{\"gridcolor\":\"white\",\"linecolor\":\"white\",\"ticks\":\"\",\"title\":{\"standoff\":15},\"zerolinecolor\":\"white\",\"automargin\":true,\"zerolinewidth\":2},\"scene\":{\"xaxis\":{\"backgroundcolor\":\"#E5ECF6\",\"gridcolor\":\"white\",\"linecolor\":\"white\",\"showbackground\":true,\"ticks\":\"\",\"zerolinecolor\":\"white\",\"gridwidth\":2},\"yaxis\":{\"backgroundcolor\":\"#E5ECF6\",\"gridcolor\":\"white\",\"linecolor\":\"white\",\"showbackground\":true,\"ticks\":\"\",\"zerolinecolor\":\"white\",\"gridwidth\":2},\"zaxis\":{\"backgroundcolor\":\"#E5ECF6\",\"gridcolor\":\"white\",\"linecolor\":\"white\",\"showbackground\":true,\"ticks\":\"\",\"zerolinecolor\":\"white\",\"gridwidth\":2}},\"shapedefaults\":{\"line\":{\"color\":\"#2a3f5f\"}},\"annotationdefaults\":{\"arrowcolor\":\"#2a3f5f\",\"arrowhead\":0,\"arrowwidth\":1},\"geo\":{\"bgcolor\":\"white\",\"landcolor\":\"#E5ECF6\",\"subunitcolor\":\"white\",\"showland\":true,\"showlakes\":true,\"lakecolor\":\"white\"},\"title\":{\"x\":0.05},\"mapbox\":{\"style\":\"light\"}}},\"xaxis\":{\"anchor\":\"y\",\"domain\":[0.0,1.0],\"title\":{\"text\":\"Markalar\"}},\"yaxis\":{\"anchor\":\"x\",\"domain\":[0.0,1.0],\"title\":{\"text\":\"Ortalama Fiyatlar\"}},\"legend\":{\"tracegroupgap\":0},\"title\":{\"text\":\"Marka \\u00d6zelinde Fiyat Ortalamalar\\u0131\"},\"barmode\":\"relative\"},                        {\"responsive\": true}                    ).then(function(){\n",
       "                            \n",
       "var gd = document.getElementById('1a8723c8-1024-4017-a8d2-5e2213f25354');\n",
       "var x = new MutationObserver(function (mutations, observer) {{\n",
       "        var display = window.getComputedStyle(gd).display;\n",
       "        if (!display || display === 'none') {{\n",
       "            console.log([gd, 'removed!']);\n",
       "            Plotly.purge(gd);\n",
       "            observer.disconnect();\n",
       "        }}\n",
       "}});\n",
       "\n",
       "// Listen for the removal of the full notebook cells\n",
       "var notebookContainer = gd.closest('#notebook-container');\n",
       "if (notebookContainer) {{\n",
       "    x.observe(notebookContainer, {childList: true});\n",
       "}}\n",
       "\n",
       "// Listen for the clearing of the current output cell\n",
       "var outputEl = gd.closest('.output');\n",
       "if (outputEl) {{\n",
       "    x.observe(outputEl, {childList: true});\n",
       "}}\n",
       "\n",
       "                        })                };                });            </script>        </div>"
      ]
     },
     "metadata": {},
     "output_type": "display_data"
    }
   ],
   "source": [
    "fig = px.bar(x=list_mean.index, y=list_mean['Means'], title='Marka Özelinde Fiyat Ortalamaları',\n",
    "            labels={'y':'Ortalama Fiyatlar', 'x':'Markalar'},\n",
    "            text_auto='.2s')\n",
    "fig.update_traces(textfont_size=12, textangle=0, textposition=\"outside\", cliponaxis=False)\n",
    "fig.show()"
   ]
  },
  {
   "cell_type": "markdown",
   "id": "fca73fa0",
   "metadata": {},
   "source": [
    "### Lineer Regresyon"
   ]
  },
  {
   "cell_type": "markdown",
   "id": "e598ce18",
   "metadata": {},
   "source": [
    "#### Regresyon1"
   ]
  },
  {
   "cell_type": "code",
   "execution_count": 327,
   "id": "5057799f",
   "metadata": {},
   "outputs": [],
   "source": [
    "import statsmodels.api as sm"
   ]
  },
  {
   "cell_type": "code",
   "execution_count": 371,
   "id": "371a8d13",
   "metadata": {},
   "outputs": [],
   "source": [
    "cons=pd.DataFrame(np.ones(len(y)), columns=['Sabit'])"
   ]
  },
  {
   "cell_type": "code",
   "execution_count": 372,
   "id": "39bdbecb",
   "metadata": {},
   "outputs": [],
   "source": [
    "x_1=pd.DataFrame(X.iloc[:,[0,1,2,3,4,19,20,21]])"
   ]
  },
  {
   "cell_type": "code",
   "execution_count": 373,
   "id": "e8a2bc77",
   "metadata": {},
   "outputs": [],
   "source": [
    "X_1=pd.concat([cons,x_1],axis=1)"
   ]
  },
  {
   "cell_type": "code",
   "execution_count": 374,
   "id": "3ad109da",
   "metadata": {},
   "outputs": [],
   "source": [
    "res=sm.OLS(y,X_1).fit()"
   ]
  },
  {
   "cell_type": "code",
   "execution_count": 375,
   "id": "83a0b761",
   "metadata": {},
   "outputs": [
    {
     "name": "stdout",
     "output_type": "stream",
     "text": [
      "                            OLS Regression Results                            \n",
      "==============================================================================\n",
      "Dep. Variable:                  Fiyat   R-squared:                       0.876\n",
      "Model:                            OLS   Adj. R-squared:                  0.868\n",
      "Method:                 Least Squares   F-statistic:                     118.2\n",
      "Date:                Thu, 29 Jun 2023   Prob (F-statistic):           7.07e-57\n",
      "Time:                        13:50:09   Log-Likelihood:                -1468.7\n",
      "No. Observations:                 143   AIC:                             2955.\n",
      "Df Residuals:                     134   BIC:                             2982.\n",
      "Df Model:                           8                                         \n",
      "Covariance Type:            nonrobust                                         \n",
      "===============================================================================\n",
      "                  coef    std err          t      P>|t|      [0.025      0.975]\n",
      "-------------------------------------------------------------------------------\n",
      "Sabit        -6.27e+04   1.25e+04     -5.026      0.000   -8.74e+04    -3.8e+04\n",
      "Acer        -2132.6275   2966.045     -0.719      0.473   -7998.948    3733.693\n",
      "Apple        2.669e+04   1886.791     14.147      0.000     2.3e+04    3.04e+04\n",
      "Asus         4449.5077   1987.468      2.239      0.027     518.643    8380.372\n",
      "Casper      -6122.8785   2227.664     -2.749      0.007   -1.05e+04   -1716.947\n",
      "HP          -3806.1558   2182.608     -1.744      0.083   -8122.975     510.663\n",
      "Ram          1218.6774    150.881      8.077      0.000     920.262    1517.093\n",
      "Hafıza         27.4160      2.802      9.784      0.000      21.874      32.958\n",
      "EkranBoyutu  3767.4120    820.318      4.593      0.000    2144.966    5389.858\n",
      "==============================================================================\n",
      "Omnibus:                       13.537   Durbin-Watson:                   1.460\n",
      "Prob(Omnibus):                  0.001   Jarque-Bera (JB):               16.518\n",
      "Skew:                           0.598   Prob(JB):                     0.000259\n",
      "Kurtosis:                       4.159   Cond. No.                     1.26e+04\n",
      "==============================================================================\n",
      "\n",
      "Notes:\n",
      "[1] Standard Errors assume that the covariance matrix of the errors is correctly specified.\n",
      "[2] The condition number is large, 1.26e+04. This might indicate that there are\n",
      "strong multicollinearity or other numerical problems.\n"
     ]
    }
   ],
   "source": [
    "print(res.summary())"
   ]
  },
  {
   "cell_type": "code",
   "execution_count": 376,
   "id": "952495f5",
   "metadata": {},
   "outputs": [],
   "source": [
    "resid1=res.resid"
   ]
  },
  {
   "cell_type": "markdown",
   "id": "6eae4e46",
   "metadata": {},
   "source": [
    "#### Regresyon2"
   ]
  },
  {
   "cell_type": "code",
   "execution_count": 377,
   "id": "0a9eb7b0",
   "metadata": {},
   "outputs": [],
   "source": [
    "x_2=pd.DataFrame(X.iloc[:,-3:])"
   ]
  },
  {
   "cell_type": "code",
   "execution_count": 378,
   "id": "ffa58ec8",
   "metadata": {},
   "outputs": [],
   "source": [
    "X_2=pd.concat([cons,x_2],axis=1)"
   ]
  },
  {
   "cell_type": "code",
   "execution_count": 379,
   "id": "7ff64fdd",
   "metadata": {},
   "outputs": [],
   "source": [
    "res1=sm.OLS(y,X_2).fit()"
   ]
  },
  {
   "cell_type": "code",
   "execution_count": 380,
   "id": "7aabf2f5",
   "metadata": {},
   "outputs": [
    {
     "name": "stdout",
     "output_type": "stream",
     "text": [
      "                            OLS Regression Results                            \n",
      "==============================================================================\n",
      "Dep. Variable:                  Fiyat   R-squared:                       0.633\n",
      "Model:                            OLS   Adj. R-squared:                  0.625\n",
      "Method:                 Least Squares   F-statistic:                     79.91\n",
      "Date:                Thu, 29 Jun 2023   Prob (F-statistic):           4.20e-30\n",
      "Time:                        13:50:25   Log-Likelihood:                -1546.2\n",
      "No. Observations:                 143   AIC:                             3100.\n",
      "Df Residuals:                     139   BIC:                             3112.\n",
      "Df Model:                           3                                         \n",
      "Covariance Type:            nonrobust                                         \n",
      "===============================================================================\n",
      "                  coef    std err          t      P>|t|      [0.025      0.975]\n",
      "-------------------------------------------------------------------------------\n",
      "Sabit         6.45e+04   1.59e+04      4.069      0.000    3.32e+04    9.58e+04\n",
      "Ram          1432.5037    252.068      5.683      0.000     934.120    1930.887\n",
      "Hafıza         27.8686      4.669      5.969      0.000      18.638      37.099\n",
      "EkranBoyutu -4383.9009   1059.601     -4.137      0.000   -6478.921   -2288.881\n",
      "==============================================================================\n",
      "Omnibus:                       27.225   Durbin-Watson:                   1.694\n",
      "Prob(Omnibus):                  0.000   Jarque-Bera (JB):               36.467\n",
      "Skew:                           1.079   Prob(JB):                     1.21e-08\n",
      "Kurtosis:                       4.209   Cond. No.                     9.42e+03\n",
      "==============================================================================\n",
      "\n",
      "Notes:\n",
      "[1] Standard Errors assume that the covariance matrix of the errors is correctly specified.\n",
      "[2] The condition number is large, 9.42e+03. This might indicate that there are\n",
      "strong multicollinearity or other numerical problems.\n"
     ]
    }
   ],
   "source": [
    "print(res1.summary())"
   ]
  },
  {
   "cell_type": "code",
   "execution_count": 381,
   "id": "2846fd2c",
   "metadata": {},
   "outputs": [],
   "source": [
    "resid2=res1.resid"
   ]
  },
  {
   "cell_type": "markdown",
   "id": "79450218",
   "metadata": {},
   "source": [
    "#### Kalıntıların Dağılımı"
   ]
  },
  {
   "cell_type": "code",
   "execution_count": 382,
   "id": "d01c8430",
   "metadata": {},
   "outputs": [],
   "source": [
    "def normal_dist(x):\n",
    "    x=np.asarray(x).reshape(len(x),1)\n",
    "    scaler = preprocessing.StandardScaler().fit(x)\n",
    "    X_scaled = scaler.transform(x)\n",
    "    plt.hist(X_scaled, bins=30, density=True, alpha=0.5)\n",
    "    mu, std = np.mean(X_scaled), np.std(X_scaled)\n",
    "    xmin, xmax = plt.xlim()\n",
    "    x = np.linspace(xmin, xmax, 100)\n",
    "    p = np.exp(-(x-mu)**2/(2*std**2))/(std*np.sqrt(2*np.pi))\n",
    "    plt.plot(x, p, 'k', linewidth=2)\n",
    "    plt.xlabel('Data')\n",
    "    plt.ylabel('Olaslık Yoğunluğu')\n",
    "    plt.title('Normal Dağılım')\n",
    "    plt.show()"
   ]
  },
  {
   "cell_type": "code",
   "execution_count": 383,
   "id": "ebab7fe8",
   "metadata": {},
   "outputs": [
    {
     "data": {
      "image/png": "[encoded data removed]",
      "text/plain": [
       "<Figure size 640x480 with 1 Axes>"
      ]
     },
     "metadata": {},
     "output_type": "display_data"
    }
   ],
   "source": [
    "normal_dist(resid1)"
   ]
  },
  {
   "cell_type": "code",
   "execution_count": 430,
   "id": "d9b586db",
   "metadata": {},
   "outputs": [
    {
     "data": {
      "image/png": "[encoded data removed]",
      "text/plain": [
       "<Figure size 640x480 with 1 Axes>"
      ]
     },
     "metadata": {},
     "output_type": "display_data"
    }
   ],
   "source": [
    "normal_dist(resid2)"
   ]
  }
 ],
 "metadata": {
  "kernelspec": {
   "display_name": "Python 3 (ipykernel)",
   "language": "python",
   "name": "python3"
  },
  "language_info": {
   "codemirror_mode": {
    "name": "ipython",
    "version": 3
   },
   "file_extension": ".py",
   "mimetype": "text/x-python",
   "name": "python",
   "nbconvert_exporter": "python",
   "pygments_lexer": "ipython3",
   "version": "3.9.13"
  }
 },
 "nbformat": 4,
 "nbformat_minor": 5
}
